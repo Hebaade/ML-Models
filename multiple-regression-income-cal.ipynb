{
 "cells": [
  {
   "cell_type": "code",
   "execution_count": 1,
   "id": "046b4cce",
   "metadata": {
    "execution": {
     "iopub.execute_input": "2024-09-11T19:17:49.633683Z",
     "iopub.status.busy": "2024-09-11T19:17:49.633167Z",
     "iopub.status.idle": "2024-09-11T19:17:50.099601Z",
     "shell.execute_reply": "2024-09-11T19:17:50.098402Z"
    },
    "papermill": {
     "duration": 0.479281,
     "end_time": "2024-09-11T19:17:50.102893",
     "exception": false,
     "start_time": "2024-09-11T19:17:49.623612",
     "status": "completed"
    },
    "tags": []
   },
   "outputs": [],
   "source": [
    "import numpy as np\n",
    "import pandas as pd\n",
    "import matplotlib.pyplot as plt"
   ]
  },
  {
   "cell_type": "code",
   "execution_count": 2,
   "id": "8b9e8a8b",
   "metadata": {
    "execution": {
     "iopub.execute_input": "2024-09-11T19:17:50.118993Z",
     "iopub.status.busy": "2024-09-11T19:17:50.118417Z",
     "iopub.status.idle": "2024-09-11T19:17:50.150933Z",
     "shell.execute_reply": "2024-09-11T19:17:50.149717Z"
    },
    "papermill": {
     "duration": 0.043721,
     "end_time": "2024-09-11T19:17:50.153947",
     "exception": false,
     "start_time": "2024-09-11T19:17:50.110226",
     "status": "completed"
    },
    "tags": []
   },
   "outputs": [],
   "source": [
    "df=pd.read_csv('/kaggle/input/multiple-linear-regression-dataset/multiple_linear_regression_dataset.csv')"
   ]
  },
  {
   "cell_type": "code",
   "execution_count": 3,
   "id": "1e009d40",
   "metadata": {
    "execution": {
     "iopub.execute_input": "2024-09-11T19:17:50.169615Z",
     "iopub.status.busy": "2024-09-11T19:17:50.168370Z",
     "iopub.status.idle": "2024-09-11T19:17:50.353669Z",
     "shell.execute_reply": "2024-09-11T19:17:50.351914Z"
    },
    "papermill": {
     "duration": 0.195385,
     "end_time": "2024-09-11T19:17:50.356020",
     "exception": true,
     "start_time": "2024-09-11T19:17:50.160635",
     "status": "failed"
    },
    "tags": []
   },
   "outputs": [
    {
     "ename": "AttributeError",
     "evalue": "'DataFrame' object has no attribute 'applyhead'",
     "output_type": "error",
     "traceback": [
      "\u001b[0;31m---------------------------------------------------------------------------\u001b[0m",
      "\u001b[0;31mAttributeError\u001b[0m                            Traceback (most recent call last)",
      "\u001b[0;32m/tmp/ipykernel_17/2223833814.py\u001b[0m in \u001b[0;36m?\u001b[0;34m()\u001b[0m\n\u001b[0;32m----> 1\u001b[0;31m \u001b[0mdf\u001b[0m\u001b[0;34m.\u001b[0m\u001b[0mapplyhead\u001b[0m\u001b[0;34m(\u001b[0m\u001b[0;34m)\u001b[0m\u001b[0;34m\u001b[0m\u001b[0;34m\u001b[0m\u001b[0m\n\u001b[0m",
      "\u001b[0;32m/opt/conda/lib/python3.10/site-packages/pandas/core/generic.py\u001b[0m in \u001b[0;36m?\u001b[0;34m(self, name)\u001b[0m\n\u001b[1;32m   6295\u001b[0m             \u001b[0;32mand\u001b[0m \u001b[0mname\u001b[0m \u001b[0;32mnot\u001b[0m \u001b[0;32min\u001b[0m \u001b[0mself\u001b[0m\u001b[0;34m.\u001b[0m\u001b[0m_accessors\u001b[0m\u001b[0;34m\u001b[0m\u001b[0;34m\u001b[0m\u001b[0m\n\u001b[1;32m   6296\u001b[0m             \u001b[0;32mand\u001b[0m \u001b[0mself\u001b[0m\u001b[0;34m.\u001b[0m\u001b[0m_info_axis\u001b[0m\u001b[0;34m.\u001b[0m\u001b[0m_can_hold_identifiers_and_holds_name\u001b[0m\u001b[0;34m(\u001b[0m\u001b[0mname\u001b[0m\u001b[0;34m)\u001b[0m\u001b[0;34m\u001b[0m\u001b[0;34m\u001b[0m\u001b[0m\n\u001b[1;32m   6297\u001b[0m         ):\n\u001b[1;32m   6298\u001b[0m             \u001b[0;32mreturn\u001b[0m \u001b[0mself\u001b[0m\u001b[0;34m[\u001b[0m\u001b[0mname\u001b[0m\u001b[0;34m]\u001b[0m\u001b[0;34m\u001b[0m\u001b[0;34m\u001b[0m\u001b[0m\n\u001b[0;32m-> 6299\u001b[0;31m         \u001b[0;32mreturn\u001b[0m \u001b[0mobject\u001b[0m\u001b[0;34m.\u001b[0m\u001b[0m__getattribute__\u001b[0m\u001b[0;34m(\u001b[0m\u001b[0mself\u001b[0m\u001b[0;34m,\u001b[0m \u001b[0mname\u001b[0m\u001b[0;34m)\u001b[0m\u001b[0;34m\u001b[0m\u001b[0;34m\u001b[0m\u001b[0m\n\u001b[0m",
      "\u001b[0;31mAttributeError\u001b[0m: 'DataFrame' object has no attribute 'applyhead'"
     ]
    }
   ],
   "source": [
    "df.applyhead()"
   ]
  },
  {
   "cell_type": "code",
   "execution_count": null,
   "id": "b3b1da1f",
   "metadata": {
    "execution": {
     "iopub.execute_input": "2024-09-11T19:07:39.885803Z",
     "iopub.status.busy": "2024-09-11T19:07:39.885366Z",
     "iopub.status.idle": "2024-09-11T19:07:39.891781Z",
     "shell.execute_reply": "2024-09-11T19:07:39.890413Z",
     "shell.execute_reply.started": "2024-09-11T19:07:39.885765Z"
    },
    "papermill": {
     "duration": null,
     "end_time": null,
     "exception": null,
     "start_time": null,
     "status": "pending"
    },
    "tags": []
   },
   "outputs": [],
   "source": [
    "x=df.iloc[:,:-1].values\n",
    "y=df.iloc[:,-1].values"
   ]
  },
  {
   "cell_type": "code",
   "execution_count": null,
   "id": "3728c8b6",
   "metadata": {
    "execution": {
     "iopub.execute_input": "2024-09-11T19:07:45.363291Z",
     "iopub.status.busy": "2024-09-11T19:07:45.362890Z",
     "iopub.status.idle": "2024-09-11T19:07:45.372400Z",
     "shell.execute_reply": "2024-09-11T19:07:45.371107Z",
     "shell.execute_reply.started": "2024-09-11T19:07:45.363250Z"
    },
    "papermill": {
     "duration": null,
     "end_time": null,
     "exception": null,
     "start_time": null,
     "status": "pending"
    },
    "tags": []
   },
   "outputs": [],
   "source": [
    "x"
   ]
  },
  {
   "cell_type": "code",
   "execution_count": null,
   "id": "383be6a4",
   "metadata": {
    "execution": {
     "iopub.execute_input": "2024-09-11T19:07:53.328480Z",
     "iopub.status.busy": "2024-09-11T19:07:53.328058Z",
     "iopub.status.idle": "2024-09-11T19:07:53.335367Z",
     "shell.execute_reply": "2024-09-11T19:07:53.334236Z",
     "shell.execute_reply.started": "2024-09-11T19:07:53.328439Z"
    },
    "papermill": {
     "duration": null,
     "end_time": null,
     "exception": null,
     "start_time": null,
     "status": "pending"
    },
    "tags": []
   },
   "outputs": [],
   "source": [
    "y"
   ]
  },
  {
   "cell_type": "code",
   "execution_count": null,
   "id": "a0327680",
   "metadata": {
    "execution": {
     "iopub.execute_input": "2024-09-11T19:10:00.211934Z",
     "iopub.status.busy": "2024-09-11T19:10:00.211489Z",
     "iopub.status.idle": "2024-09-11T19:10:00.220339Z",
     "shell.execute_reply": "2024-09-11T19:10:00.218840Z",
     "shell.execute_reply.started": "2024-09-11T19:10:00.211894Z"
    },
    "papermill": {
     "duration": null,
     "end_time": null,
     "exception": null,
     "start_time": null,
     "status": "pending"
    },
    "tags": []
   },
   "outputs": [],
   "source": [
    "from sklearn.model_selection import train_test_split\n",
    "x_train,x_test,y_train,y_test=train_test_split(x,y,test_size=0.3,random_state=0)"
   ]
  },
  {
   "cell_type": "code",
   "execution_count": null,
   "id": "4b96c6c0",
   "metadata": {
    "execution": {
     "iopub.execute_input": "2024-09-11T19:10:07.667707Z",
     "iopub.status.busy": "2024-09-11T19:10:07.667275Z",
     "iopub.status.idle": "2024-09-11T19:10:07.674912Z",
     "shell.execute_reply": "2024-09-11T19:10:07.673866Z",
     "shell.execute_reply.started": "2024-09-11T19:10:07.667667Z"
    },
    "papermill": {
     "duration": null,
     "end_time": null,
     "exception": null,
     "start_time": null,
     "status": "pending"
    },
    "tags": []
   },
   "outputs": [],
   "source": [
    "x_train"
   ]
  },
  {
   "cell_type": "code",
   "execution_count": null,
   "id": "95df8088",
   "metadata": {
    "execution": {
     "iopub.execute_input": "2024-09-11T19:10:13.989876Z",
     "iopub.status.busy": "2024-09-11T19:10:13.989466Z",
     "iopub.status.idle": "2024-09-11T19:10:13.996799Z",
     "shell.execute_reply": "2024-09-11T19:10:13.995705Z",
     "shell.execute_reply.started": "2024-09-11T19:10:13.989838Z"
    },
    "papermill": {
     "duration": null,
     "end_time": null,
     "exception": null,
     "start_time": null,
     "status": "pending"
    },
    "tags": []
   },
   "outputs": [],
   "source": [
    "x_test"
   ]
  },
  {
   "cell_type": "code",
   "execution_count": null,
   "id": "b269d2cc",
   "metadata": {
    "execution": {
     "iopub.execute_input": "2024-09-11T19:10:24.589434Z",
     "iopub.status.busy": "2024-09-11T19:10:24.588949Z",
     "iopub.status.idle": "2024-09-11T19:10:24.597989Z",
     "shell.execute_reply": "2024-09-11T19:10:24.596333Z",
     "shell.execute_reply.started": "2024-09-11T19:10:24.589376Z"
    },
    "papermill": {
     "duration": null,
     "end_time": null,
     "exception": null,
     "start_time": null,
     "status": "pending"
    },
    "tags": []
   },
   "outputs": [],
   "source": [
    "y_train"
   ]
  },
  {
   "cell_type": "code",
   "execution_count": null,
   "id": "98f04208",
   "metadata": {
    "execution": {
     "iopub.execute_input": "2024-09-11T19:10:30.825640Z",
     "iopub.status.busy": "2024-09-11T19:10:30.825219Z",
     "iopub.status.idle": "2024-09-11T19:10:30.832746Z",
     "shell.execute_reply": "2024-09-11T19:10:30.831591Z",
     "shell.execute_reply.started": "2024-09-11T19:10:30.825600Z"
    },
    "papermill": {
     "duration": null,
     "end_time": null,
     "exception": null,
     "start_time": null,
     "status": "pending"
    },
    "tags": []
   },
   "outputs": [],
   "source": [
    "y_test"
   ]
  },
  {
   "cell_type": "code",
   "execution_count": null,
   "id": "92992573",
   "metadata": {
    "execution": {
     "iopub.execute_input": "2024-09-11T19:11:28.823872Z",
     "iopub.status.busy": "2024-09-11T19:11:28.823442Z",
     "iopub.status.idle": "2024-09-11T19:11:28.953224Z",
     "shell.execute_reply": "2024-09-11T19:11:28.952052Z",
     "shell.execute_reply.started": "2024-09-11T19:11:28.823832Z"
    },
    "papermill": {
     "duration": null,
     "end_time": null,
     "exception": null,
     "start_time": null,
     "status": "pending"
    },
    "tags": []
   },
   "outputs": [],
   "source": [
    "from sklearn.linear_model import LinearRegression\n",
    "reg=LinearRegression()\n",
    "reg.fit(x_train,y_train)"
   ]
  },
  {
   "cell_type": "code",
   "execution_count": null,
   "id": "65816df7",
   "metadata": {
    "execution": {
     "iopub.execute_input": "2024-09-11T19:12:36.603201Z",
     "iopub.status.busy": "2024-09-11T19:12:36.602640Z",
     "iopub.status.idle": "2024-09-11T19:12:36.609784Z",
     "shell.execute_reply": "2024-09-11T19:12:36.608271Z",
     "shell.execute_reply.started": "2024-09-11T19:12:36.603149Z"
    },
    "papermill": {
     "duration": null,
     "end_time": null,
     "exception": null,
     "start_time": null,
     "status": "pending"
    },
    "tags": []
   },
   "outputs": [],
   "source": [
    "y_pred=reg.predict(x_test)"
   ]
  },
  {
   "cell_type": "code",
   "execution_count": null,
   "id": "f7d67d4c",
   "metadata": {
    "execution": {
     "iopub.execute_input": "2024-09-11T19:12:43.490901Z",
     "iopub.status.busy": "2024-09-11T19:12:43.490469Z",
     "iopub.status.idle": "2024-09-11T19:12:43.497904Z",
     "shell.execute_reply": "2024-09-11T19:12:43.496965Z",
     "shell.execute_reply.started": "2024-09-11T19:12:43.490862Z"
    },
    "papermill": {
     "duration": null,
     "end_time": null,
     "exception": null,
     "start_time": null,
     "status": "pending"
    },
    "tags": []
   },
   "outputs": [],
   "source": [
    "y_pred"
   ]
  },
  {
   "cell_type": "code",
   "execution_count": null,
   "id": "dbe000e6",
   "metadata": {
    "execution": {
     "iopub.execute_input": "2024-09-11T19:13:20.277576Z",
     "iopub.status.busy": "2024-09-11T19:13:20.277127Z",
     "iopub.status.idle": "2024-09-11T19:13:20.285034Z",
     "shell.execute_reply": "2024-09-11T19:13:20.283672Z",
     "shell.execute_reply.started": "2024-09-11T19:13:20.277535Z"
    },
    "papermill": {
     "duration": null,
     "end_time": null,
     "exception": null,
     "start_time": null,
     "status": "pending"
    },
    "tags": []
   },
   "outputs": [],
   "source": [
    "np.set_printoptions(precision=2)\n",
    "print(np.concatenate((y_pred.reshape(len(y_pred),1), y_test.reshape(len(y_test),1)),1))"
   ]
  },
  {
   "cell_type": "code",
   "execution_count": null,
   "id": "1bc5ed5e",
   "metadata": {
    "execution": {
     "iopub.execute_input": "2024-09-11T19:16:21.260885Z",
     "iopub.status.busy": "2024-09-11T19:16:21.259962Z",
     "iopub.status.idle": "2024-09-11T19:16:21.268329Z",
     "shell.execute_reply": "2024-09-11T19:16:21.267174Z",
     "shell.execute_reply.started": "2024-09-11T19:16:21.260829Z"
    },
    "papermill": {
     "duration": null,
     "end_time": null,
     "exception": null,
     "start_time": null,
     "status": "pending"
    },
    "tags": []
   },
   "outputs": [],
   "source": [
    "from sklearn.metrics import mean_squared_error\n",
    "mean_squared_error(y_test, y_pred)"
   ]
  },
  {
   "cell_type": "code",
   "execution_count": null,
   "id": "7e8a0878",
   "metadata": {
    "execution": {
     "iopub.execute_input": "2024-09-11T19:17:30.878824Z",
     "iopub.status.busy": "2024-09-11T19:17:30.878370Z",
     "iopub.status.idle": "2024-09-11T19:17:30.885314Z",
     "shell.execute_reply": "2024-09-11T19:17:30.884038Z",
     "shell.execute_reply.started": "2024-09-11T19:17:30.878783Z"
    },
    "papermill": {
     "duration": null,
     "end_time": null,
     "exception": null,
     "start_time": null,
     "status": "pending"
    },
    "tags": []
   },
   "outputs": [],
   "source": [
    "print(reg.coef_)\n",
    "print(reg.intercept_)"
   ]
  }
 ],
 "metadata": {
  "kaggle": {
   "accelerator": "none",
   "dataSources": [
    {
     "datasetId": 2408725,
     "sourceId": 4069533,
     "sourceType": "datasetVersion"
    }
   ],
   "dockerImageVersionId": 30761,
   "isGpuEnabled": false,
   "isInternetEnabled": true,
   "language": "python",
   "sourceType": "notebook"
  },
  "kernelspec": {
   "display_name": "Python 3",
   "language": "python",
   "name": "python3"
  },
  "language_info": {
   "codemirror_mode": {
    "name": "ipython",
    "version": 3
   },
   "file_extension": ".py",
   "mimetype": "text/x-python",
   "name": "python",
   "nbconvert_exporter": "python",
   "pygments_lexer": "ipython3",
   "version": "3.10.14"
  },
  "papermill": {
   "default_parameters": {},
   "duration": 4.83258,
   "end_time": "2024-09-11T19:17:51.088000",
   "environment_variables": {},
   "exception": true,
   "input_path": "__notebook__.ipynb",
   "output_path": "__notebook__.ipynb",
   "parameters": {},
   "start_time": "2024-09-11T19:17:46.255420",
   "version": "2.6.0"
  }
 },
 "nbformat": 4,
 "nbformat_minor": 5
}
