{
 "cells": [
  {
   "cell_type": "code",
   "execution_count": 1,
   "id": "0709cf58",
   "metadata": {
    "execution": {
     "iopub.execute_input": "2024-09-12T10:02:22.109988Z",
     "iopub.status.busy": "2024-09-12T10:02:22.108614Z",
     "iopub.status.idle": "2024-09-12T10:02:22.568630Z",
     "shell.execute_reply": "2024-09-12T10:02:22.567603Z"
    },
    "papermill": {
     "duration": 0.471397,
     "end_time": "2024-09-12T10:02:22.571661",
     "exception": false,
     "start_time": "2024-09-12T10:02:22.100264",
     "status": "completed"
    },
    "tags": []
   },
   "outputs": [],
   "source": [
    "# Importing the libraries\n",
    "import numpy as np\n",
    "import matplotlib.pyplot as plt\n",
    "import pandas as pd"
   ]
  },
  {
   "cell_type": "code",
   "execution_count": 2,
   "id": "ecb1eb72",
   "metadata": {
    "execution": {
     "iopub.execute_input": "2024-09-12T10:02:22.584317Z",
     "iopub.status.busy": "2024-09-12T10:02:22.583729Z",
     "iopub.status.idle": "2024-09-12T10:02:22.612176Z",
     "shell.execute_reply": "2024-09-12T10:02:22.611115Z"
    },
    "papermill": {
     "duration": 0.038144,
     "end_time": "2024-09-12T10:02:22.615381",
     "exception": false,
     "start_time": "2024-09-12T10:02:22.577237",
     "status": "completed"
    },
    "tags": []
   },
   "outputs": [],
   "source": [
    "df=pd.read_csv('/kaggle/input/salary-prediction-polynomial-linear-regression/Position_Salaries.csv')"
   ]
  },
  {
   "cell_type": "code",
   "execution_count": 3,
   "id": "1b526954",
   "metadata": {
    "execution": {
     "iopub.execute_input": "2024-09-12T10:02:22.628227Z",
     "iopub.status.busy": "2024-09-12T10:02:22.627792Z",
     "iopub.status.idle": "2024-09-12T10:02:22.637287Z",
     "shell.execute_reply": "2024-09-12T10:02:22.636007Z"
    },
    "papermill": {
     "duration": 0.01895,
     "end_time": "2024-09-12T10:02:22.639794",
     "exception": false,
     "start_time": "2024-09-12T10:02:22.620844",
     "status": "completed"
    },
    "tags": []
   },
   "outputs": [],
   "source": [
    "X = df.iloc[:, 1:-1].values\n",
    "y = df.iloc[:, -1].values"
   ]
  },
  {
   "cell_type": "code",
   "execution_count": 4,
   "id": "81a5b6d5",
   "metadata": {
    "execution": {
     "iopub.execute_input": "2024-09-12T10:02:22.652714Z",
     "iopub.status.busy": "2024-09-12T10:02:22.651654Z",
     "iopub.status.idle": "2024-09-12T10:02:22.662247Z",
     "shell.execute_reply": "2024-09-12T10:02:22.661097Z"
    },
    "papermill": {
     "duration": 0.019795,
     "end_time": "2024-09-12T10:02:22.664934",
     "exception": false,
     "start_time": "2024-09-12T10:02:22.645139",
     "status": "completed"
    },
    "tags": []
   },
   "outputs": [
    {
     "data": {
      "text/plain": [
       "array([[ 1],\n",
       "       [ 2],\n",
       "       [ 3],\n",
       "       [ 4],\n",
       "       [ 5],\n",
       "       [ 6],\n",
       "       [ 7],\n",
       "       [ 8],\n",
       "       [ 9],\n",
       "       [10]])"
      ]
     },
     "execution_count": 4,
     "metadata": {},
     "output_type": "execute_result"
    }
   ],
   "source": [
    "X"
   ]
  },
  {
   "cell_type": "code",
   "execution_count": 5,
   "id": "873e8953",
   "metadata": {
    "execution": {
     "iopub.execute_input": "2024-09-12T10:02:22.678155Z",
     "iopub.status.busy": "2024-09-12T10:02:22.677693Z",
     "iopub.status.idle": "2024-09-12T10:02:22.685881Z",
     "shell.execute_reply": "2024-09-12T10:02:22.684583Z"
    },
    "papermill": {
     "duration": 0.017745,
     "end_time": "2024-09-12T10:02:22.688612",
     "exception": false,
     "start_time": "2024-09-12T10:02:22.670867",
     "status": "completed"
    },
    "tags": []
   },
   "outputs": [
    {
     "data": {
      "text/plain": [
       "array([  45000,   50000,   60000,   80000,  110000,  150000,  200000,\n",
       "        300000,  500000, 1000000])"
      ]
     },
     "execution_count": 5,
     "metadata": {},
     "output_type": "execute_result"
    }
   ],
   "source": [
    "y"
   ]
  },
  {
   "cell_type": "code",
   "execution_count": 6,
   "id": "bcc8058f",
   "metadata": {
    "execution": {
     "iopub.execute_input": "2024-09-12T10:02:22.702647Z",
     "iopub.status.busy": "2024-09-12T10:02:22.702196Z",
     "iopub.status.idle": "2024-09-12T10:02:22.707892Z",
     "shell.execute_reply": "2024-09-12T10:02:22.706606Z"
    },
    "papermill": {
     "duration": 0.016418,
     "end_time": "2024-09-12T10:02:22.710677",
     "exception": false,
     "start_time": "2024-09-12T10:02:22.694259",
     "status": "completed"
    },
    "tags": []
   },
   "outputs": [],
   "source": [
    "y = y.reshape(len(y),1)"
   ]
  },
  {
   "cell_type": "code",
   "execution_count": 7,
   "id": "4e819a59",
   "metadata": {
    "execution": {
     "iopub.execute_input": "2024-09-12T10:02:22.724150Z",
     "iopub.status.busy": "2024-09-12T10:02:22.723694Z",
     "iopub.status.idle": "2024-09-12T10:02:23.164228Z",
     "shell.execute_reply": "2024-09-12T10:02:23.162328Z"
    },
    "papermill": {
     "duration": 0.449942,
     "end_time": "2024-09-12T10:02:23.166602",
     "exception": true,
     "start_time": "2024-09-12T10:02:22.716660",
     "status": "failed"
    },
    "tags": []
   },
   "outputs": [
    {
     "ename": "NameError",
     "evalue": "name 'Y' is not defined",
     "output_type": "error",
     "traceback": [
      "\u001b[0;31m---------------------------------------------------------------------------\u001b[0m",
      "\u001b[0;31mNameError\u001b[0m                                 Traceback (most recent call last)",
      "Cell \u001b[0;32mIn[7], line 1\u001b[0m\n\u001b[0;32m----> 1\u001b[0m \u001b[43mY\u001b[49m\n",
      "\u001b[0;31mNameError\u001b[0m: name 'Y' is not defined"
     ]
    }
   ],
   "source": [
    " Y"
   ]
  },
  {
   "cell_type": "code",
   "execution_count": null,
   "id": "d9e3abd8",
   "metadata": {
    "execution": {
     "iopub.execute_input": "2024-09-12T09:59:40.051355Z",
     "iopub.status.busy": "2024-09-12T09:59:40.050880Z",
     "iopub.status.idle": "2024-09-12T09:59:40.060729Z",
     "shell.execute_reply": "2024-09-12T09:59:40.059119Z",
     "shell.execute_reply.started": "2024-09-12T09:59:40.051312Z"
    },
    "papermill": {
     "duration": null,
     "end_time": null,
     "exception": null,
     "start_time": null,
     "status": "pending"
    },
    "tags": []
   },
   "outputs": [],
   "source": [
    "from sklearn.preprocessing import StandardScaler\n",
    "sc_X = StandardScaler()\n",
    "sc_y = StandardScaler()\n",
    "X = sc_X.fit_transform(X)\n",
    "y = sc_y.fit_transform(y)"
   ]
  },
  {
   "cell_type": "code",
   "execution_count": null,
   "id": "80e78ccc",
   "metadata": {
    "execution": {
     "iopub.execute_input": "2024-09-12T09:59:45.702637Z",
     "iopub.status.busy": "2024-09-12T09:59:45.702207Z",
     "iopub.status.idle": "2024-09-12T09:59:45.710587Z",
     "shell.execute_reply": "2024-09-12T09:59:45.709390Z",
     "shell.execute_reply.started": "2024-09-12T09:59:45.702600Z"
    },
    "papermill": {
     "duration": null,
     "end_time": null,
     "exception": null,
     "start_time": null,
     "status": "pending"
    },
    "tags": []
   },
   "outputs": [],
   "source": [
    "x"
   ]
  },
  {
   "cell_type": "code",
   "execution_count": null,
   "id": "a277829c",
   "metadata": {
    "execution": {
     "iopub.execute_input": "2024-09-12T09:59:51.452992Z",
     "iopub.status.busy": "2024-09-12T09:59:51.452454Z",
     "iopub.status.idle": "2024-09-12T09:59:51.462703Z",
     "shell.execute_reply": "2024-09-12T09:59:51.461140Z",
     "shell.execute_reply.started": "2024-09-12T09:59:51.452945Z"
    },
    "papermill": {
     "duration": null,
     "end_time": null,
     "exception": null,
     "start_time": null,
     "status": "pending"
    },
    "tags": []
   },
   "outputs": [],
   "source": [
    "y"
   ]
  },
  {
   "cell_type": "code",
   "execution_count": null,
   "id": "bf632a93",
   "metadata": {
    "execution": {
     "iopub.execute_input": "2024-09-12T10:00:08.407065Z",
     "iopub.status.busy": "2024-09-12T10:00:08.406622Z",
     "iopub.status.idle": "2024-09-12T10:00:08.419460Z",
     "shell.execute_reply": "2024-09-12T10:00:08.417578Z",
     "shell.execute_reply.started": "2024-09-12T10:00:08.407024Z"
    },
    "papermill": {
     "duration": null,
     "end_time": null,
     "exception": null,
     "start_time": null,
     "status": "pending"
    },
    "tags": []
   },
   "outputs": [],
   "source": [
    "# Training the SVR model on the whole dataset\n",
    "from sklearn.svm import SVR\n",
    "regressor = SVR(kernel = 'rbf')\n",
    "regressor.fit(X, y)"
   ]
  },
  {
   "cell_type": "code",
   "execution_count": null,
   "id": "e77baf7b",
   "metadata": {
    "execution": {
     "iopub.execute_input": "2024-09-12T10:00:17.654092Z",
     "iopub.status.busy": "2024-09-12T10:00:17.653300Z",
     "iopub.status.idle": "2024-09-12T10:00:17.667040Z",
     "shell.execute_reply": "2024-09-12T10:00:17.665254Z",
     "shell.execute_reply.started": "2024-09-12T10:00:17.654012Z"
    },
    "papermill": {
     "duration": null,
     "end_time": null,
     "exception": null,
     "start_time": null,
     "status": "pending"
    },
    "tags": []
   },
   "outputs": [],
   "source": [
    "sc_y.inverse_transform(regressor.predict(sc_X.transform([[6.5]])).reshape(-1,1))"
   ]
  },
  {
   "cell_type": "code",
   "execution_count": null,
   "id": "8e897ea5",
   "metadata": {
    "execution": {
     "iopub.execute_input": "2024-09-12T10:00:24.768329Z",
     "iopub.status.busy": "2024-09-12T10:00:24.767913Z",
     "iopub.status.idle": "2024-09-12T10:00:25.114113Z",
     "shell.execute_reply": "2024-09-12T10:00:25.112717Z",
     "shell.execute_reply.started": "2024-09-12T10:00:24.768291Z"
    },
    "papermill": {
     "duration": null,
     "end_time": null,
     "exception": null,
     "start_time": null,
     "status": "pending"
    },
    "tags": []
   },
   "outputs": [],
   "source": [
    "# Visualising the SVR results (for higher resolution and smoother curve)\n",
    "X_grid = np.arange(min(sc_X.inverse_transform(X)), max(sc_X.inverse_transform(X)), 0.1)\n",
    "X_grid = X_grid.reshape((len(X_grid), 1))\n",
    "plt.scatter(sc_X.inverse_transform(X), sc_y.inverse_transform(y), color = 'red')\n",
    "plt.plot(X_grid, sc_y.inverse_transform(regressor.predict(sc_X.transform(X_grid)).reshape(-1,1)), color = 'blue')\n",
    "plt.title('Truth or Bluff (SVR)')\n",
    "plt.xlabel('Position level')\n",
    "plt.ylabel('Salary')\n",
    "plt.show()"
   ]
  }
 ],
 "metadata": {
  "kaggle": {
   "accelerator": "none",
   "dataSources": [
    {
     "datasetId": 1742440,
     "sourceId": 2846873,
     "sourceType": "datasetVersion"
    }
   ],
   "dockerImageVersionId": 30761,
   "isGpuEnabled": false,
   "isInternetEnabled": true,
   "language": "python",
   "sourceType": "notebook"
  },
  "kernelspec": {
   "display_name": "Python 3",
   "language": "python",
   "name": "python3"
  },
  "language_info": {
   "codemirror_mode": {
    "name": "ipython",
    "version": 3
   },
   "file_extension": ".py",
   "mimetype": "text/x-python",
   "name": "python",
   "nbconvert_exporter": "python",
   "pygments_lexer": "ipython3",
   "version": "3.10.14"
  },
  "papermill": {
   "default_parameters": {},
   "duration": 4.841921,
   "end_time": "2024-09-12T10:02:23.694911",
   "environment_variables": {},
   "exception": true,
   "input_path": "__notebook__.ipynb",
   "output_path": "__notebook__.ipynb",
   "parameters": {},
   "start_time": "2024-09-12T10:02:18.852990",
   "version": "2.6.0"
  }
 },
 "nbformat": 4,
 "nbformat_minor": 5
}
