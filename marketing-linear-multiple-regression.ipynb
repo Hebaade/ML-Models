{
 "cells": [
  {
   "cell_type": "code",
   "execution_count": 1,
   "id": "c3aa5a5b",
   "metadata": {
    "execution": {
     "iopub.execute_input": "2024-09-11T18:59:19.725537Z",
     "iopub.status.busy": "2024-09-11T18:59:19.725018Z",
     "iopub.status.idle": "2024-09-11T18:59:20.195342Z",
     "shell.execute_reply": "2024-09-11T18:59:20.194276Z"
    },
    "papermill": {
     "duration": 0.482938,
     "end_time": "2024-09-11T18:59:20.198218",
     "exception": false,
     "start_time": "2024-09-11T18:59:19.715280",
     "status": "completed"
    },
    "tags": []
   },
   "outputs": [],
   "source": [
    "import numpy as np \n",
    "import pandas as pd\n",
    "import matplotlib.pyplot as  plt"
   ]
  },
  {
   "cell_type": "code",
   "execution_count": 2,
   "id": "86f509a9",
   "metadata": {
    "execution": {
     "iopub.execute_input": "2024-09-11T18:59:20.213431Z",
     "iopub.status.busy": "2024-09-11T18:59:20.212839Z",
     "iopub.status.idle": "2024-09-11T18:59:20.236915Z",
     "shell.execute_reply": "2024-09-11T18:59:20.235668Z"
    },
    "papermill": {
     "duration": 0.034747,
     "end_time": "2024-09-11T18:59:20.239760",
     "exception": false,
     "start_time": "2024-09-11T18:59:20.205013",
     "status": "completed"
    },
    "tags": []
   },
   "outputs": [],
   "source": [
    "df= pd.read_csv('/kaggle/input/marketing-linear-multiple-regression/Marketing_Data.csv')"
   ]
  },
  {
   "cell_type": "code",
   "execution_count": 3,
   "id": "ddc2e3dd",
   "metadata": {
    "execution": {
     "iopub.execute_input": "2024-09-11T18:59:20.255324Z",
     "iopub.status.busy": "2024-09-11T18:59:20.254876Z",
     "iopub.status.idle": "2024-09-11T18:59:20.284364Z",
     "shell.execute_reply": "2024-09-11T18:59:20.282586Z"
    },
    "papermill": {
     "duration": 0.041476,
     "end_time": "2024-09-11T18:59:20.288035",
     "exception": false,
     "start_time": "2024-09-11T18:59:20.246559",
     "status": "completed"
    },
    "tags": []
   },
   "outputs": [
    {
     "data": {
      "text/html": [
       "<div>\n",
       "<style scoped>\n",
       "    .dataframe tbody tr th:only-of-type {\n",
       "        vertical-align: middle;\n",
       "    }\n",
       "\n",
       "    .dataframe tbody tr th {\n",
       "        vertical-align: top;\n",
       "    }\n",
       "\n",
       "    .dataframe thead th {\n",
       "        text-align: right;\n",
       "    }\n",
       "</style>\n",
       "<table border=\"1\" class=\"dataframe\">\n",
       "  <thead>\n",
       "    <tr style=\"text-align: right;\">\n",
       "      <th></th>\n",
       "      <th>youtube</th>\n",
       "      <th>facebook</th>\n",
       "      <th>newspaper</th>\n",
       "      <th>sales</th>\n",
       "    </tr>\n",
       "  </thead>\n",
       "  <tbody>\n",
       "    <tr>\n",
       "      <th>0</th>\n",
       "      <td>84.72</td>\n",
       "      <td>19.20</td>\n",
       "      <td>48.96</td>\n",
       "      <td>12.60</td>\n",
       "    </tr>\n",
       "    <tr>\n",
       "      <th>1</th>\n",
       "      <td>351.48</td>\n",
       "      <td>33.96</td>\n",
       "      <td>51.84</td>\n",
       "      <td>25.68</td>\n",
       "    </tr>\n",
       "    <tr>\n",
       "      <th>2</th>\n",
       "      <td>135.48</td>\n",
       "      <td>20.88</td>\n",
       "      <td>46.32</td>\n",
       "      <td>14.28</td>\n",
       "    </tr>\n",
       "    <tr>\n",
       "      <th>3</th>\n",
       "      <td>116.64</td>\n",
       "      <td>1.80</td>\n",
       "      <td>36.00</td>\n",
       "      <td>11.52</td>\n",
       "    </tr>\n",
       "    <tr>\n",
       "      <th>4</th>\n",
       "      <td>318.72</td>\n",
       "      <td>24.00</td>\n",
       "      <td>0.36</td>\n",
       "      <td>20.88</td>\n",
       "    </tr>\n",
       "  </tbody>\n",
       "</table>\n",
       "</div>"
      ],
      "text/plain": [
       "   youtube  facebook  newspaper  sales\n",
       "0    84.72     19.20      48.96  12.60\n",
       "1   351.48     33.96      51.84  25.68\n",
       "2   135.48     20.88      46.32  14.28\n",
       "3   116.64      1.80      36.00  11.52\n",
       "4   318.72     24.00       0.36  20.88"
      ]
     },
     "execution_count": 3,
     "metadata": {},
     "output_type": "execute_result"
    }
   ],
   "source": [
    "df.head()"
   ]
  },
  {
   "cell_type": "code",
   "execution_count": 4,
   "id": "c9026984",
   "metadata": {
    "execution": {
     "iopub.execute_input": "2024-09-11T18:59:20.303674Z",
     "iopub.status.busy": "2024-09-11T18:59:20.303123Z",
     "iopub.status.idle": "2024-09-11T18:59:20.309121Z",
     "shell.execute_reply": "2024-09-11T18:59:20.307909Z"
    },
    "papermill": {
     "duration": 0.016589,
     "end_time": "2024-09-11T18:59:20.311530",
     "exception": false,
     "start_time": "2024-09-11T18:59:20.294941",
     "status": "completed"
    },
    "tags": []
   },
   "outputs": [],
   "source": [
    "x=df.iloc[:,:-1].values\n",
    "y=df.iloc[:,-1].values"
   ]
  },
  {
   "cell_type": "code",
   "execution_count": 5,
   "id": "8499f499",
   "metadata": {
    "execution": {
     "iopub.execute_input": "2024-09-11T18:59:20.327061Z",
     "iopub.status.busy": "2024-09-11T18:59:20.325970Z",
     "iopub.status.idle": "2024-09-11T18:59:20.341452Z",
     "shell.execute_reply": "2024-09-11T18:59:20.340206Z"
    },
    "papermill": {
     "duration": 0.025845,
     "end_time": "2024-09-11T18:59:20.343951",
     "exception": false,
     "start_time": "2024-09-11T18:59:20.318106",
     "status": "completed"
    },
    "tags": []
   },
   "outputs": [
    {
     "data": {
      "text/plain": [
       "array([[ 84.72,  19.2 ,  48.96],\n",
       "       [351.48,  33.96,  51.84],\n",
       "       [135.48,  20.88,  46.32],\n",
       "       [116.64,   1.8 ,  36.  ],\n",
       "       [318.72,  24.  ,   0.36],\n",
       "       [114.84,   1.68,   8.88],\n",
       "       [348.84,   4.92,  10.2 ],\n",
       "       [320.28,  52.56,   6.  ],\n",
       "       [ 89.64,  59.28,  54.84],\n",
       "       [ 51.72,  32.04,  42.12],\n",
       "       [273.6 ,  45.24,  38.4 ],\n",
       "       [243.  ,  26.76,  37.92],\n",
       "       [212.4 ,  40.08,  46.44],\n",
       "       [352.32,  33.24,   2.16],\n",
       "       [248.28,  10.08,  31.68],\n",
       "       [ 30.12,  30.84,  51.96],\n",
       "       [210.12,  27.  ,  37.8 ],\n",
       "       [107.64,  11.88,  42.84],\n",
       "       [287.88,  49.8 ,  22.2 ],\n",
       "       [272.64,  18.96,  59.88],\n",
       "       [ 80.28,  14.04,  44.16],\n",
       "       [239.76,   3.72,  41.52],\n",
       "       [120.48,  11.52,   4.32],\n",
       "       [259.68,  50.04,  47.52],\n",
       "       [219.12,  55.44,  70.44],\n",
       "       [315.24,  34.56,  19.08],\n",
       "       [238.68,  59.28,  72.  ],\n",
       "       [  8.76,  33.72,  49.68],\n",
       "       [163.44,  23.04,  19.92],\n",
       "       [252.96,  59.52,  45.24],\n",
       "       [252.84,  35.4 ,  11.16],\n",
       "       [ 64.2 ,   2.4 ,  25.68],\n",
       "       [313.56,  51.24,  65.64],\n",
       "       [287.16,  18.6 ,  32.76],\n",
       "       [123.24,  35.52,  10.08],\n",
       "       [157.32,  51.36,  34.68],\n",
       "       [ 82.8 ,  11.16,   1.08],\n",
       "       [ 37.8 ,  29.52,   2.64],\n",
       "       [167.16,  17.4 ,  12.24],\n",
       "       [284.88,  33.  ,  13.2 ],\n",
       "       [260.16,  52.68,  32.64],\n",
       "       [238.92,  36.72,  46.44],\n",
       "       [131.76,  17.16,  38.04],\n",
       "       [ 32.16,  39.6 ,  23.16],\n",
       "       [155.28,   6.84,  37.56],\n",
       "       [256.08,  29.52,  15.72],\n",
       "       [ 20.28,  52.44, 107.28],\n",
       "       [ 33.  ,   1.92,  24.84],\n",
       "       [144.6 ,  34.2 ,  17.04],\n",
       "       [  6.48,  35.88,  11.28],\n",
       "       [139.2 ,   9.24,  27.72],\n",
       "       [ 91.68,  32.04,  26.76],\n",
       "       [287.76,   4.92,  44.28],\n",
       "       [ 90.36,  24.36,  39.  ],\n",
       "       [ 82.08,  53.4 ,  42.72],\n",
       "       [256.2 ,  51.6 ,  40.56],\n",
       "       [231.84,  22.08,  78.84],\n",
       "       [ 91.56,  33.  ,  19.2 ],\n",
       "       [132.84,  48.72,  75.84],\n",
       "       [105.96,  30.6 ,  88.08],\n",
       "       [131.76,  57.36,  61.68],\n",
       "       [161.16,   5.88,  11.16],\n",
       "       [ 34.32,   1.8 ,  39.6 ],\n",
       "       [261.24,  40.2 ,  70.8 ],\n",
       "       [301.08,  43.8 ,  86.76],\n",
       "       [128.88,  16.8 ,  13.08],\n",
       "       [195.96,  37.92,  63.48],\n",
       "       [237.12,   4.2 ,   7.08],\n",
       "       [221.88,  25.2 ,  26.4 ],\n",
       "       [347.64,  50.76,  61.44],\n",
       "       [162.24,  50.04,  55.08],\n",
       "       [266.88,   5.16,  59.76],\n",
       "       [355.68,  43.56, 121.08],\n",
       "       [336.24,  12.12,  25.68],\n",
       "       [225.48,  20.64,  21.48],\n",
       "       [285.84,  41.16,   6.36],\n",
       "       [165.48,  55.68,  70.8 ],\n",
       "       [ 30.  ,  13.2 ,  35.64],\n",
       "       [108.48,   0.36,  27.84],\n",
       "       [ 15.72,   0.48,  30.72],\n",
       "       [306.48,  32.28,   6.6 ],\n",
       "       [270.96,   9.84,  67.8 ],\n",
       "       [290.04,  45.6 ,  27.84],\n",
       "       [210.84,  18.48,   2.88],\n",
       "       [251.52,  24.72,  12.84],\n",
       "       [ 93.84,  56.16,  41.4 ],\n",
       "       [ 90.12,  42.  ,  63.24],\n",
       "       [167.04,  17.16,  30.72],\n",
       "       [ 91.68,   0.96,  17.76],\n",
       "       [150.84,  44.28,  95.04],\n",
       "       [ 23.28,  19.2 ,  26.76],\n",
       "       [169.56,  32.16,  55.44],\n",
       "       [ 22.56,  26.04,  60.48],\n",
       "       [268.8 ,   2.88,  18.72],\n",
       "       [147.72,  41.52,  14.88],\n",
       "       [275.4 ,  38.76,  89.04],\n",
       "       [104.64,  14.16,  31.08],\n",
       "       [  9.36,  46.68,  60.72],\n",
       "       [ 96.24,   0.  ,  11.04],\n",
       "       [264.36,  58.8 ,   3.84],\n",
       "       [ 71.52,  14.4 ,  51.72],\n",
       "       [  0.84,  47.52,  10.44],\n",
       "       [318.24,   3.48,  51.6 ],\n",
       "       [ 10.08,  32.64,   2.52],\n",
       "       [263.76,  40.2 ,  54.12],\n",
       "       [ 44.28,  46.32,  78.72],\n",
       "       [ 57.96,  56.4 ,  10.2 ],\n",
       "       [ 30.72,  46.8 ,  11.16],\n",
       "       [328.44,  34.68,  71.64],\n",
       "       [ 51.6 ,  31.08,  24.6 ],\n",
       "       [221.88,  52.68,   2.04],\n",
       "       [ 88.08,  20.4 ,  15.48],\n",
       "       [232.44,  42.48,  90.72],\n",
       "       [264.6 ,  39.84,  45.48],\n",
       "       [125.52,   6.84,  41.28],\n",
       "       [115.44,  17.76,  46.68],\n",
       "       [168.36,   2.28,  10.8 ],\n",
       "       [288.12,   8.76,  10.44],\n",
       "       [291.84,  58.8 ,  53.16],\n",
       "       [ 45.6 ,  48.36,  14.28],\n",
       "       [ 53.64,  30.96,  24.72],\n",
       "       [336.84,  16.68,  44.4 ],\n",
       "       [145.2 ,  10.08,  58.44],\n",
       "       [237.12,  27.96,  17.04],\n",
       "       [205.56,  47.64,  45.24],\n",
       "       [225.36,  25.32,  11.4 ],\n",
       "       [  4.92,  13.92,   6.84],\n",
       "       [112.68,  52.2 ,  60.6 ],\n",
       "       [179.76,   1.56,  29.16],\n",
       "       [ 14.04,  44.28,  54.24],\n",
       "       [158.04,  22.08,  41.52],\n",
       "       [207.  ,  21.72,  36.84],\n",
       "       [102.84,  42.96,  59.16],\n",
       "       [226.08,  21.72,  30.72],\n",
       "       [196.2 ,  44.16,   8.88],\n",
       "       [140.64,  17.64,   6.48],\n",
       "       [281.4 ,   4.08, 101.76],\n",
       "       [ 21.48,  45.12,  25.92],\n",
       "       [248.16,   6.24,  23.28],\n",
       "       [258.48,  28.32,  69.12],\n",
       "       [341.16,  12.72,   7.68],\n",
       "       [ 60.  ,  13.92,  22.08],\n",
       "       [197.4 ,  25.08,  56.88],\n",
       "       [ 23.52,  24.12,  20.4 ],\n",
       "       [202.08,   8.52,  15.36],\n",
       "       [266.88,   4.08,  15.72],\n",
       "       [332.28,  58.68,  50.16],\n",
       "       [298.08,  36.24,  24.36],\n",
       "       [204.24,   9.36,  42.24],\n",
       "       [332.04,   2.76,  28.44],\n",
       "       [198.72,  12.  ,  21.12],\n",
       "       [187.92,   3.12,   9.96],\n",
       "       [262.2 ,   6.48,  32.88],\n",
       "       [ 67.44,   6.84,  35.64],\n",
       "       [345.12,  51.6 ,  86.16],\n",
       "       [304.56,  25.56,  36.  ],\n",
       "       [246.  ,  54.12,  23.52],\n",
       "       [167.4 ,   2.52,  31.92],\n",
       "       [229.32,  34.44,  21.84],\n",
       "       [343.2 ,  16.68,   4.44],\n",
       "       [ 22.44,  14.52,  28.08],\n",
       "       [ 47.4 ,  49.32,   6.96],\n",
       "       [ 90.6 ,  12.96,   7.2 ],\n",
       "       [ 20.64,   4.92,  37.92],\n",
       "       [200.16,  50.4 ,   4.32],\n",
       "       [179.64,  42.72,   7.2 ],\n",
       "       [ 45.84,   4.44,  16.56],\n",
       "       [113.04,   5.88,   9.72],\n",
       "       [212.4 ,  11.16,   7.68],\n",
       "       [340.32,  50.4 ,  79.44],\n",
       "       [278.52,  10.32,  10.44]])"
      ]
     },
     "execution_count": 5,
     "metadata": {},
     "output_type": "execute_result"
    }
   ],
   "source": [
    "x"
   ]
  },
  {
   "cell_type": "code",
   "execution_count": 6,
   "id": "b1fd1749",
   "metadata": {
    "execution": {
     "iopub.execute_input": "2024-09-11T18:59:20.359787Z",
     "iopub.status.busy": "2024-09-11T18:59:20.359353Z",
     "iopub.status.idle": "2024-09-11T18:59:20.368865Z",
     "shell.execute_reply": "2024-09-11T18:59:20.367651Z"
    },
    "papermill": {
     "duration": 0.020197,
     "end_time": "2024-09-11T18:59:20.371271",
     "exception": false,
     "start_time": "2024-09-11T18:59:20.351074",
     "status": "completed"
    },
    "tags": []
   },
   "outputs": [
    {
     "data": {
      "text/plain": [
       "array([12.6 , 25.68, 14.28, 11.52, 20.88, 11.4 , 15.36, 30.48, 17.64,\n",
       "       12.12, 25.8 , 19.92, 20.52, 24.84, 15.48, 10.2 , 17.88, 12.72,\n",
       "       27.84, 17.76, 11.64, 13.68, 12.84, 27.12, 25.44, 24.24, 28.44,\n",
       "        6.6 , 15.84, 28.56, 22.08,  9.72, 29.04, 18.84, 16.8 , 21.6 ,\n",
       "       11.16, 11.4 , 16.08, 22.68, 26.76, 21.96, 14.88, 10.56, 13.2 ,\n",
       "       20.4 , 10.44,  8.28, 17.04,  6.36, 13.2 , 14.16, 14.76, 13.56,\n",
       "       16.32, 26.04, 18.24, 14.4 , 19.2 , 15.48, 20.04, 13.44,  8.76,\n",
       "       23.28, 26.64, 13.8 , 20.28, 14.04, 18.6 , 30.48, 20.64, 14.04,\n",
       "       28.56, 17.76, 17.64, 24.84, 23.04,  8.64, 10.44,  6.36, 23.76,\n",
       "       16.08, 26.16, 16.92, 19.08, 17.52, 15.12, 14.64, 11.28, 19.08,\n",
       "        7.92, 18.6 ,  8.4 , 13.92, 18.24, 23.64, 12.72,  7.92, 10.56,\n",
       "       29.64, 11.64,  1.92, 15.24,  6.84, 23.52, 12.96, 13.92, 11.4 ,\n",
       "       24.96, 11.52, 24.84, 13.08, 23.04, 24.12, 12.48, 13.68, 12.36,\n",
       "       15.84, 30.48, 13.08, 12.12, 19.32, 13.92, 19.92, 22.8 , 18.72,\n",
       "        3.84, 18.36, 12.12,  8.76, 15.48, 17.28, 15.96, 17.88, 21.6 ,\n",
       "       14.28, 14.28,  9.6 , 14.64, 20.52, 18.  , 10.08, 17.4 ,  9.12,\n",
       "       14.04, 13.8 , 32.4 , 24.24, 14.04, 14.16, 15.12, 12.6 , 14.64,\n",
       "       10.44, 31.44, 21.12, 27.12, 12.36, 20.76, 19.08,  8.04, 12.96,\n",
       "       11.88,  7.08, 23.52, 20.76,  9.12, 11.64, 15.36, 30.6 , 16.08])"
      ]
     },
     "execution_count": 6,
     "metadata": {},
     "output_type": "execute_result"
    }
   ],
   "source": [
    "y"
   ]
  },
  {
   "cell_type": "code",
   "execution_count": 7,
   "id": "ce53bbae",
   "metadata": {
    "execution": {
     "iopub.execute_input": "2024-09-11T18:59:20.387636Z",
     "iopub.status.busy": "2024-09-11T18:59:20.387192Z",
     "iopub.status.idle": "2024-09-11T18:59:21.825648Z",
     "shell.execute_reply": "2024-09-11T18:59:21.824467Z"
    },
    "papermill": {
     "duration": 1.450234,
     "end_time": "2024-09-11T18:59:21.828666",
     "exception": false,
     "start_time": "2024-09-11T18:59:20.378432",
     "status": "completed"
    },
    "tags": []
   },
   "outputs": [],
   "source": [
    "from sklearn.model_selection import train_test_split\n",
    "x_train,x_test,y_train,y_test=train_test_split(x,y,test_size=0.2,random_state=0)"
   ]
  },
  {
   "cell_type": "code",
   "execution_count": 8,
   "id": "a65a7aae",
   "metadata": {
    "execution": {
     "iopub.execute_input": "2024-09-11T18:59:21.845671Z",
     "iopub.status.busy": "2024-09-11T18:59:21.845084Z",
     "iopub.status.idle": "2024-09-11T18:59:21.859418Z",
     "shell.execute_reply": "2024-09-11T18:59:21.858084Z"
    },
    "papermill": {
     "duration": 0.025805,
     "end_time": "2024-09-11T18:59:21.862053",
     "exception": false,
     "start_time": "2024-09-11T18:59:21.836248",
     "status": "completed"
    },
    "tags": []
   },
   "outputs": [
    {
     "data": {
      "text/plain": [
       "array([[155.28,   6.84,  37.56],\n",
       "       [306.48,  32.28,   6.6 ],\n",
       "       [ 30.72,  46.8 ,  11.16],\n",
       "       [ 96.24,   0.  ,  11.04],\n",
       "       [212.4 ,  11.16,   7.68],\n",
       "       [219.12,  55.44,  70.44],\n",
       "       [252.84,  35.4 ,  11.16],\n",
       "       [ 22.56,  26.04,  60.48],\n",
       "       [ 88.08,  20.4 ,  15.48],\n",
       "       [ 67.44,   6.84,  35.64],\n",
       "       [272.64,  18.96,  59.88],\n",
       "       [102.84,  42.96,  59.16],\n",
       "       [225.48,  20.64,  21.48],\n",
       "       [ 22.44,  14.52,  28.08],\n",
       "       [210.12,  27.  ,  37.8 ],\n",
       "       [145.2 ,  10.08,  58.44],\n",
       "       [340.32,  50.4 ,  79.44],\n",
       "       [260.16,  52.68,  32.64],\n",
       "       [262.2 ,   6.48,  32.88],\n",
       "       [120.48,  11.52,   4.32],\n",
       "       [ 57.96,  56.4 ,  10.2 ],\n",
       "       [304.56,  25.56,  36.  ],\n",
       "       [205.56,  47.64,  45.24],\n",
       "       [266.88,   5.16,  59.76],\n",
       "       [167.4 ,   2.52,  31.92],\n",
       "       [232.44,  42.48,  90.72],\n",
       "       [  8.76,  33.72,  49.68],\n",
       "       [332.04,   2.76,  28.44],\n",
       "       [207.  ,  21.72,  36.84],\n",
       "       [104.64,  14.16,  31.08],\n",
       "       [168.36,   2.28,  10.8 ],\n",
       "       [ 90.12,  42.  ,  63.24],\n",
       "       [ 34.32,   1.8 ,  39.6 ],\n",
       "       [135.48,  20.88,  46.32],\n",
       "       [105.96,  30.6 ,  88.08],\n",
       "       [147.72,  41.52,  14.88],\n",
       "       [275.4 ,  38.76,  89.04],\n",
       "       [ 32.16,  39.6 ,  23.16],\n",
       "       [273.6 ,  45.24,  38.4 ],\n",
       "       [210.84,  18.48,   2.88],\n",
       "       [336.24,  12.12,  25.68],\n",
       "       [179.64,  42.72,   7.2 ],\n",
       "       [328.44,  34.68,  71.64],\n",
       "       [  0.84,  47.52,  10.44],\n",
       "       [ 23.28,  19.2 ,  26.76],\n",
       "       [281.4 ,   4.08, 101.76],\n",
       "       [200.16,  50.4 ,   4.32],\n",
       "       [139.2 ,   9.24,  27.72],\n",
       "       [264.6 ,  39.84,  45.48],\n",
       "       [246.  ,  54.12,  23.52],\n",
       "       [301.08,  43.8 ,  86.76],\n",
       "       [ 45.6 ,  48.36,  14.28],\n",
       "       [336.84,  16.68,  44.4 ],\n",
       "       [347.64,  50.76,  61.44],\n",
       "       [  6.48,  35.88,  11.28],\n",
       "       [144.6 ,  34.2 ,  17.04],\n",
       "       [ 93.84,  56.16,  41.4 ],\n",
       "       [352.32,  33.24,   2.16],\n",
       "       [158.04,  22.08,  41.52],\n",
       "       [259.68,  50.04,  47.52],\n",
       "       [ 60.  ,  13.92,  22.08],\n",
       "       [ 80.28,  14.04,  44.16],\n",
       "       [ 30.12,  30.84,  51.96],\n",
       "       [108.48,   0.36,  27.84],\n",
       "       [287.76,   4.92,  44.28],\n",
       "       [165.48,  55.68,  70.8 ],\n",
       "       [116.64,   1.8 ,  36.  ],\n",
       "       [278.52,  10.32,  10.44],\n",
       "       [ 14.04,  44.28,  54.24],\n",
       "       [348.84,   4.92,  10.2 ],\n",
       "       [221.88,  25.2 ,  26.4 ],\n",
       "       [285.84,  41.16,   6.36],\n",
       "       [251.52,  24.72,  12.84],\n",
       "       [196.2 ,  44.16,   8.88],\n",
       "       [212.4 ,  40.08,  46.44],\n",
       "       [226.08,  21.72,  30.72],\n",
       "       [332.28,  58.68,  50.16],\n",
       "       [248.28,  10.08,  31.68],\n",
       "       [ 84.72,  19.2 ,  48.96],\n",
       "       [169.56,  32.16,  55.44],\n",
       "       [298.08,  36.24,  24.36],\n",
       "       [ 20.28,  52.44, 107.28],\n",
       "       [243.  ,  26.76,  37.92],\n",
       "       [318.24,   3.48,  51.6 ],\n",
       "       [157.32,  51.36,  34.68],\n",
       "       [ 91.56,  33.  ,  19.2 ],\n",
       "       [238.92,  36.72,  46.44],\n",
       "       [113.04,   5.88,   9.72],\n",
       "       [128.88,  16.8 ,  13.08],\n",
       "       [351.48,  33.96,  51.84],\n",
       "       [ 53.64,  30.96,  24.72],\n",
       "       [258.48,  28.32,  69.12],\n",
       "       [343.2 ,  16.68,   4.44],\n",
       "       [131.76,  17.16,  38.04],\n",
       "       [ 44.28,  46.32,  78.72],\n",
       "       [198.72,  12.  ,  21.12],\n",
       "       [107.64,  11.88,  42.84],\n",
       "       [167.16,  17.4 ,  12.24],\n",
       "       [ 90.36,  24.36,  39.  ],\n",
       "       [140.64,  17.64,   6.48],\n",
       "       [179.76,   1.56,  29.16],\n",
       "       [123.24,  35.52,  10.08],\n",
       "       [163.44,  23.04,  19.92],\n",
       "       [125.52,   6.84,  41.28],\n",
       "       [ 64.2 ,   2.4 ,  25.68],\n",
       "       [ 23.52,  24.12,  20.4 ],\n",
       "       [112.68,  52.2 ,  60.6 ],\n",
       "       [187.92,   3.12,   9.96],\n",
       "       [313.56,  51.24,  65.64],\n",
       "       [197.4 ,  25.08,  56.88],\n",
       "       [252.96,  59.52,  45.24],\n",
       "       [264.36,  58.8 ,   3.84],\n",
       "       [290.04,  45.6 ,  27.84],\n",
       "       [ 15.72,   0.48,  30.72],\n",
       "       [115.44,  17.76,  46.68],\n",
       "       [204.24,   9.36,  42.24],\n",
       "       [ 45.84,   4.44,  16.56],\n",
       "       [355.68,  43.56, 121.08],\n",
       "       [ 30.  ,  13.2 ,  35.64],\n",
       "       [315.24,  34.56,  19.08],\n",
       "       [270.96,   9.84,  67.8 ],\n",
       "       [ 47.4 ,  49.32,   6.96],\n",
       "       [ 20.64,   4.92,  37.92],\n",
       "       [284.88,  33.  ,  13.2 ],\n",
       "       [132.84,  48.72,  75.84],\n",
       "       [341.16,  12.72,   7.68],\n",
       "       [ 91.68,   0.96,  17.76],\n",
       "       [162.24,  50.04,  55.08],\n",
       "       [167.04,  17.16,  30.72],\n",
       "       [ 82.8 ,  11.16,   1.08],\n",
       "       [239.76,   3.72,  41.52],\n",
       "       [ 51.72,  32.04,  42.12],\n",
       "       [ 10.08,  32.64,   2.52],\n",
       "       [237.12,   4.2 ,   7.08],\n",
       "       [288.12,   8.76,  10.44],\n",
       "       [ 33.  ,   1.92,  24.84]])"
      ]
     },
     "execution_count": 8,
     "metadata": {},
     "output_type": "execute_result"
    }
   ],
   "source": [
    "x_train"
   ]
  },
  {
   "cell_type": "code",
   "execution_count": 9,
   "id": "b2d45d72",
   "metadata": {
    "execution": {
     "iopub.execute_input": "2024-09-11T18:59:21.879548Z",
     "iopub.status.busy": "2024-09-11T18:59:21.878420Z",
     "iopub.status.idle": "2024-09-11T18:59:21.887821Z",
     "shell.execute_reply": "2024-09-11T18:59:21.886638Z"
    },
    "papermill": {
     "duration": 0.02069,
     "end_time": "2024-09-11T18:59:21.890333",
     "exception": false,
     "start_time": "2024-09-11T18:59:21.869643",
     "status": "completed"
    },
    "tags": []
   },
   "outputs": [
    {
     "data": {
      "text/plain": [
       "array([[ 82.08,  53.4 ,  42.72],\n",
       "       [266.88,   4.08,  15.72],\n",
       "       [261.24,  40.2 ,  70.8 ],\n",
       "       [256.2 ,  51.6 ,  40.56],\n",
       "       [225.36,  25.32,  11.4 ],\n",
       "       [ 71.52,  14.4 ,  51.72],\n",
       "       [320.28,  52.56,   6.  ],\n",
       "       [345.12,  51.6 ,  86.16],\n",
       "       [263.76,  40.2 ,  54.12],\n",
       "       [150.84,  44.28,  95.04],\n",
       "       [ 21.48,  45.12,  25.92],\n",
       "       [202.08,   8.52,  15.36],\n",
       "       [114.84,   1.68,   8.88],\n",
       "       [  9.36,  46.68,  60.72],\n",
       "       [ 90.6 ,  12.96,   7.2 ],\n",
       "       [268.8 ,   2.88,  18.72],\n",
       "       [287.16,  18.6 ,  32.76],\n",
       "       [287.88,  49.8 ,  22.2 ],\n",
       "       [161.16,   5.88,  11.16],\n",
       "       [ 91.68,  32.04,  26.76],\n",
       "       [195.96,  37.92,  63.48],\n",
       "       [ 37.8 ,  29.52,   2.64],\n",
       "       [318.72,  24.  ,   0.36],\n",
       "       [291.84,  58.8 ,  53.16],\n",
       "       [131.76,  57.36,  61.68],\n",
       "       [ 51.6 ,  31.08,  24.6 ],\n",
       "       [237.12,  27.96,  17.04],\n",
       "       [248.16,   6.24,  23.28],\n",
       "       [221.88,  52.68,   2.04],\n",
       "       [229.32,  34.44,  21.84],\n",
       "       [238.68,  59.28,  72.  ],\n",
       "       [231.84,  22.08,  78.84],\n",
       "       [  4.92,  13.92,   6.84],\n",
       "       [256.08,  29.52,  15.72],\n",
       "       [ 89.64,  59.28,  54.84]])"
      ]
     },
     "execution_count": 9,
     "metadata": {},
     "output_type": "execute_result"
    }
   ],
   "source": [
    "x_test"
   ]
  },
  {
   "cell_type": "code",
   "execution_count": 10,
   "id": "08e2ef81",
   "metadata": {
    "execution": {
     "iopub.execute_input": "2024-09-11T18:59:21.907408Z",
     "iopub.status.busy": "2024-09-11T18:59:21.906996Z",
     "iopub.status.idle": "2024-09-11T18:59:21.916655Z",
     "shell.execute_reply": "2024-09-11T18:59:21.915397Z"
    },
    "papermill": {
     "duration": 0.021185,
     "end_time": "2024-09-11T18:59:21.919210",
     "exception": false,
     "start_time": "2024-09-11T18:59:21.898025",
     "status": "completed"
    },
    "tags": []
   },
   "outputs": [
    {
     "data": {
      "text/plain": [
       "array([13.2 , 23.76, 11.4 , 10.56, 15.36, 25.44, 22.08,  8.4 , 13.08,\n",
       "       10.44, 17.76, 15.96, 17.64,  8.04, 17.88, 13.92, 30.6 , 26.76,\n",
       "       14.64, 12.84, 13.92, 21.12, 22.8 , 14.04, 12.36, 23.04,  6.6 ,\n",
       "       14.16, 17.28, 12.72, 12.36, 15.12,  8.76, 14.28, 15.48, 18.24,\n",
       "       23.64, 10.56, 25.8 , 16.92, 17.76, 20.76, 24.96,  1.92,  7.92,\n",
       "       14.28, 23.52, 13.2 , 24.12, 27.12, 26.64, 13.08, 19.32, 30.48,\n",
       "        6.36, 17.04, 17.52, 24.84, 15.48, 27.12, 10.08, 11.64, 10.2 ,\n",
       "       10.44, 14.76, 23.04, 11.52, 16.08,  8.76, 15.36, 18.6 , 24.84,\n",
       "       19.08, 21.6 , 20.52, 17.88, 32.4 , 15.48, 12.6 , 18.6 , 24.24,\n",
       "       10.44, 19.92, 15.24, 21.6 , 14.4 , 21.96, 11.64, 13.8 , 25.68,\n",
       "       12.12, 20.52, 19.08, 14.88, 12.96, 15.12, 12.72, 16.08, 13.56,\n",
       "       14.28, 12.12, 16.8 , 15.84, 12.48,  9.72,  9.12, 18.36, 12.6 ,\n",
       "       29.04, 17.4 , 28.56, 29.64, 26.16,  6.36, 13.68, 14.04,  9.12,\n",
       "       28.56,  8.64, 24.24, 16.08, 12.96,  7.08, 22.68, 19.2 , 18.  ,\n",
       "       11.28, 20.64, 14.64, 11.16, 13.68, 12.12,  6.84, 14.04, 15.84,\n",
       "        8.28])"
      ]
     },
     "execution_count": 10,
     "metadata": {},
     "output_type": "execute_result"
    }
   ],
   "source": [
    "y_train"
   ]
  },
  {
   "cell_type": "code",
   "execution_count": 11,
   "id": "5b205a8f",
   "metadata": {
    "execution": {
     "iopub.execute_input": "2024-09-11T18:59:21.936929Z",
     "iopub.status.busy": "2024-09-11T18:59:21.936478Z",
     "iopub.status.idle": "2024-09-11T18:59:21.944408Z",
     "shell.execute_reply": "2024-09-11T18:59:21.943223Z"
    },
    "papermill": {
     "duration": 0.019628,
     "end_time": "2024-09-11T18:59:21.946823",
     "exception": false,
     "start_time": "2024-09-11T18:59:21.927195",
     "status": "completed"
    },
    "tags": []
   },
   "outputs": [
    {
     "data": {
      "text/plain": [
       "array([16.32, 13.8 , 23.28, 26.04, 18.72, 11.64, 30.48, 31.44, 23.52,\n",
       "       19.08,  9.6 , 14.04, 11.4 ,  7.92, 11.88, 13.92, 18.84, 27.84,\n",
       "       13.44, 14.16, 20.28, 11.4 , 20.88, 30.48, 20.04, 11.52, 19.92,\n",
       "       14.64, 24.84, 20.76, 28.44, 18.24,  3.84, 20.4 , 17.64])"
      ]
     },
     "execution_count": 11,
     "metadata": {},
     "output_type": "execute_result"
    }
   ],
   "source": [
    "y_test"
   ]
  },
  {
   "cell_type": "code",
   "execution_count": 12,
   "id": "f4ff2ee3",
   "metadata": {
    "execution": {
     "iopub.execute_input": "2024-09-11T18:59:21.964660Z",
     "iopub.status.busy": "2024-09-11T18:59:21.964198Z",
     "iopub.status.idle": "2024-09-11T18:59:22.169815Z",
     "shell.execute_reply": "2024-09-11T18:59:22.168584Z"
    },
    "papermill": {
     "duration": 0.217521,
     "end_time": "2024-09-11T18:59:22.172460",
     "exception": false,
     "start_time": "2024-09-11T18:59:21.954939",
     "status": "completed"
    },
    "tags": []
   },
   "outputs": [
    {
     "data": {
      "text/html": [
       "<style>#sk-container-id-1 {color: black;background-color: white;}#sk-container-id-1 pre{padding: 0;}#sk-container-id-1 div.sk-toggleable {background-color: white;}#sk-container-id-1 label.sk-toggleable__label {cursor: pointer;display: block;width: 100%;margin-bottom: 0;padding: 0.3em;box-sizing: border-box;text-align: center;}#sk-container-id-1 label.sk-toggleable__label-arrow:before {content: \"▸\";float: left;margin-right: 0.25em;color: #696969;}#sk-container-id-1 label.sk-toggleable__label-arrow:hover:before {color: black;}#sk-container-id-1 div.sk-estimator:hover label.sk-toggleable__label-arrow:before {color: black;}#sk-container-id-1 div.sk-toggleable__content {max-height: 0;max-width: 0;overflow: hidden;text-align: left;background-color: #f0f8ff;}#sk-container-id-1 div.sk-toggleable__content pre {margin: 0.2em;color: black;border-radius: 0.25em;background-color: #f0f8ff;}#sk-container-id-1 input.sk-toggleable__control:checked~div.sk-toggleable__content {max-height: 200px;max-width: 100%;overflow: auto;}#sk-container-id-1 input.sk-toggleable__control:checked~label.sk-toggleable__label-arrow:before {content: \"▾\";}#sk-container-id-1 div.sk-estimator input.sk-toggleable__control:checked~label.sk-toggleable__label {background-color: #d4ebff;}#sk-container-id-1 div.sk-label input.sk-toggleable__control:checked~label.sk-toggleable__label {background-color: #d4ebff;}#sk-container-id-1 input.sk-hidden--visually {border: 0;clip: rect(1px 1px 1px 1px);clip: rect(1px, 1px, 1px, 1px);height: 1px;margin: -1px;overflow: hidden;padding: 0;position: absolute;width: 1px;}#sk-container-id-1 div.sk-estimator {font-family: monospace;background-color: #f0f8ff;border: 1px dotted black;border-radius: 0.25em;box-sizing: border-box;margin-bottom: 0.5em;}#sk-container-id-1 div.sk-estimator:hover {background-color: #d4ebff;}#sk-container-id-1 div.sk-parallel-item::after {content: \"\";width: 100%;border-bottom: 1px solid gray;flex-grow: 1;}#sk-container-id-1 div.sk-label:hover label.sk-toggleable__label {background-color: #d4ebff;}#sk-container-id-1 div.sk-serial::before {content: \"\";position: absolute;border-left: 1px solid gray;box-sizing: border-box;top: 0;bottom: 0;left: 50%;z-index: 0;}#sk-container-id-1 div.sk-serial {display: flex;flex-direction: column;align-items: center;background-color: white;padding-right: 0.2em;padding-left: 0.2em;position: relative;}#sk-container-id-1 div.sk-item {position: relative;z-index: 1;}#sk-container-id-1 div.sk-parallel {display: flex;align-items: stretch;justify-content: center;background-color: white;position: relative;}#sk-container-id-1 div.sk-item::before, #sk-container-id-1 div.sk-parallel-item::before {content: \"\";position: absolute;border-left: 1px solid gray;box-sizing: border-box;top: 0;bottom: 0;left: 50%;z-index: -1;}#sk-container-id-1 div.sk-parallel-item {display: flex;flex-direction: column;z-index: 1;position: relative;background-color: white;}#sk-container-id-1 div.sk-parallel-item:first-child::after {align-self: flex-end;width: 50%;}#sk-container-id-1 div.sk-parallel-item:last-child::after {align-self: flex-start;width: 50%;}#sk-container-id-1 div.sk-parallel-item:only-child::after {width: 0;}#sk-container-id-1 div.sk-dashed-wrapped {border: 1px dashed gray;margin: 0 0.4em 0.5em 0.4em;box-sizing: border-box;padding-bottom: 0.4em;background-color: white;}#sk-container-id-1 div.sk-label label {font-family: monospace;font-weight: bold;display: inline-block;line-height: 1.2em;}#sk-container-id-1 div.sk-label-container {text-align: center;}#sk-container-id-1 div.sk-container {/* jupyter's `normalize.less` sets `[hidden] { display: none; }` but bootstrap.min.css set `[hidden] { display: none !important; }` so we also need the `!important` here to be able to override the default hidden behavior on the sphinx rendered scikit-learn.org. See: https://github.com/scikit-learn/scikit-learn/issues/21755 */display: inline-block !important;position: relative;}#sk-container-id-1 div.sk-text-repr-fallback {display: none;}</style><div id=\"sk-container-id-1\" class=\"sk-top-container\"><div class=\"sk-text-repr-fallback\"><pre>LinearRegression()</pre><b>In a Jupyter environment, please rerun this cell to show the HTML representation or trust the notebook. <br />On GitHub, the HTML representation is unable to render, please try loading this page with nbviewer.org.</b></div><div class=\"sk-container\" hidden><div class=\"sk-item\"><div class=\"sk-estimator sk-toggleable\"><input class=\"sk-toggleable__control sk-hidden--visually\" id=\"sk-estimator-id-1\" type=\"checkbox\" checked><label for=\"sk-estimator-id-1\" class=\"sk-toggleable__label sk-toggleable__label-arrow\">LinearRegression</label><div class=\"sk-toggleable__content\"><pre>LinearRegression()</pre></div></div></div></div></div>"
      ],
      "text/plain": [
       "LinearRegression()"
      ]
     },
     "execution_count": 12,
     "metadata": {},
     "output_type": "execute_result"
    }
   ],
   "source": [
    "from sklearn.linear_model import LinearRegression\n",
    "reg=LinearRegression()\n",
    "reg.fit(x_train,y_train)"
   ]
  },
  {
   "cell_type": "code",
   "execution_count": 13,
   "id": "3af76d88",
   "metadata": {
    "execution": {
     "iopub.execute_input": "2024-09-11T18:59:22.191546Z",
     "iopub.status.busy": "2024-09-11T18:59:22.191084Z",
     "iopub.status.idle": "2024-09-11T18:59:22.197051Z",
     "shell.execute_reply": "2024-09-11T18:59:22.195933Z"
    },
    "papermill": {
     "duration": 0.01876,
     "end_time": "2024-09-11T18:59:22.199749",
     "exception": false,
     "start_time": "2024-09-11T18:59:22.180989",
     "status": "completed"
    },
    "tags": []
   },
   "outputs": [],
   "source": [
    "y_pred=reg.predict(x_test)"
   ]
  },
  {
   "cell_type": "code",
   "execution_count": 14,
   "id": "1acbf5ac",
   "metadata": {
    "execution": {
     "iopub.execute_input": "2024-09-11T18:59:22.218446Z",
     "iopub.status.busy": "2024-09-11T18:59:22.217571Z",
     "iopub.status.idle": "2024-09-11T18:59:22.225749Z",
     "shell.execute_reply": "2024-09-11T18:59:22.224638Z"
    },
    "papermill": {
     "duration": 0.020214,
     "end_time": "2024-09-11T18:59:22.228255",
     "exception": false,
     "start_time": "2024-09-11T18:59:22.208041",
     "status": "completed"
    },
    "tags": []
   },
   "outputs": [
    {
     "data": {
      "text/plain": [
       "array([17.47637032, 16.37438329, 23.03375348, 24.76366742, 18.44000541,\n",
       "        9.88587684, 27.58148165, 28.87880859, 23.06393669, 19.0636305 ,\n",
       "       13.21803757, 14.34999561,  9.23890874, 13.14124811, 10.24291776,\n",
       "       16.2522827 , 20.0147228 , 25.73237296, 12.05155149, 13.89264368,\n",
       "       19.7192218 , 10.95264453, 22.23454235, 27.70965086, 20.47231834,\n",
       "       11.94972356, 19.4677982 , 15.98774074, 23.2733346 , 20.3406546 ,\n",
       "       25.5594432 , 18.45251872,  6.66383729, 20.57898229, 18.94707082])"
      ]
     },
     "execution_count": 14,
     "metadata": {},
     "output_type": "execute_result"
    }
   ],
   "source": [
    "y_pred"
   ]
  },
  {
   "cell_type": "code",
   "execution_count": 15,
   "id": "ed00db94",
   "metadata": {
    "execution": {
     "iopub.execute_input": "2024-09-11T18:59:22.247907Z",
     "iopub.status.busy": "2024-09-11T18:59:22.246791Z",
     "iopub.status.idle": "2024-09-11T18:59:22.255695Z",
     "shell.execute_reply": "2024-09-11T18:59:22.254395Z"
    },
    "papermill": {
     "duration": 0.021731,
     "end_time": "2024-09-11T18:59:22.258523",
     "exception": false,
     "start_time": "2024-09-11T18:59:22.236792",
     "status": "completed"
    },
    "tags": []
   },
   "outputs": [
    {
     "name": "stdout",
     "output_type": "stream",
     "text": [
      "[[17.48 16.32]\n",
      " [16.37 13.8 ]\n",
      " [23.03 23.28]\n",
      " [24.76 26.04]\n",
      " [18.44 18.72]\n",
      " [ 9.89 11.64]\n",
      " [27.58 30.48]\n",
      " [28.88 31.44]\n",
      " [23.06 23.52]\n",
      " [19.06 19.08]\n",
      " [13.22  9.6 ]\n",
      " [14.35 14.04]\n",
      " [ 9.24 11.4 ]\n",
      " [13.14  7.92]\n",
      " [10.24 11.88]\n",
      " [16.25 13.92]\n",
      " [20.01 18.84]\n",
      " [25.73 27.84]\n",
      " [12.05 13.44]\n",
      " [13.89 14.16]\n",
      " [19.72 20.28]\n",
      " [10.95 11.4 ]\n",
      " [22.23 20.88]\n",
      " [27.71 30.48]\n",
      " [20.47 20.04]\n",
      " [11.95 11.52]\n",
      " [19.47 19.92]\n",
      " [15.99 14.64]\n",
      " [23.27 24.84]\n",
      " [20.34 20.76]\n",
      " [25.56 28.44]\n",
      " [18.45 18.24]\n",
      " [ 6.66  3.84]\n",
      " [20.58 20.4 ]\n",
      " [18.95 17.64]]\n"
     ]
    }
   ],
   "source": [
    "np.set_printoptions(precision=2)\n",
    "print(np.concatenate((y_pred.reshape(len(y_pred),1), y_test.reshape(len(y_test),1)),1))"
   ]
  },
  {
   "cell_type": "code",
   "execution_count": 16,
   "id": "15a0f0fb",
   "metadata": {
    "execution": {
     "iopub.execute_input": "2024-09-11T18:59:22.278905Z",
     "iopub.status.busy": "2024-09-11T18:59:22.277572Z",
     "iopub.status.idle": "2024-09-11T18:59:22.284726Z",
     "shell.execute_reply": "2024-09-11T18:59:22.283498Z"
    },
    "papermill": {
     "duration": 0.019917,
     "end_time": "2024-09-11T18:59:22.287345",
     "exception": false,
     "start_time": "2024-09-11T18:59:22.267428",
     "status": "completed"
    },
    "tags": []
   },
   "outputs": [
    {
     "name": "stdout",
     "output_type": "stream",
     "text": [
      "[0.04 0.18 0.  ]\n",
      "3.855843431588161\n"
     ]
    }
   ],
   "source": [
    "print(reg.coef_)\n",
    "print(reg.intercept_)"
   ]
  },
  {
   "cell_type": "code",
   "execution_count": 17,
   "id": "60e78b32",
   "metadata": {
    "execution": {
     "iopub.execute_input": "2024-09-11T18:59:22.308301Z",
     "iopub.status.busy": "2024-09-11T18:59:22.307851Z",
     "iopub.status.idle": "2024-09-11T18:59:22.316787Z",
     "shell.execute_reply": "2024-09-11T18:59:22.315426Z"
    },
    "papermill": {
     "duration": 0.021539,
     "end_time": "2024-09-11T18:59:22.319367",
     "exception": false,
     "start_time": "2024-09-11T18:59:22.297828",
     "status": "completed"
    },
    "tags": []
   },
   "outputs": [
    {
     "data": {
      "text/plain": [
       "3.4897781691644782"
      ]
     },
     "execution_count": 17,
     "metadata": {},
     "output_type": "execute_result"
    }
   ],
   "source": [
    "from sklearn.metrics import mean_squared_error\n",
    "mean_squared_error(y_test, y_pred)"
   ]
  }
 ],
 "metadata": {
  "kaggle": {
   "accelerator": "none",
   "dataSources": [
    {
     "datasetId": 619455,
     "sourceId": 1106121,
     "sourceType": "datasetVersion"
    }
   ],
   "dockerImageVersionId": 30761,
   "isGpuEnabled": false,
   "isInternetEnabled": true,
   "language": "python",
   "sourceType": "notebook"
  },
  "kernelspec": {
   "display_name": "Python 3",
   "language": "python",
   "name": "python3"
  },
  "language_info": {
   "codemirror_mode": {
    "name": "ipython",
    "version": 3
   },
   "file_extension": ".py",
   "mimetype": "text/x-python",
   "name": "python",
   "nbconvert_exporter": "python",
   "pygments_lexer": "ipython3",
   "version": "3.10.14"
  },
  "papermill": {
   "default_parameters": {},
   "duration": 6.306005,
   "end_time": "2024-09-11T18:59:22.949836",
   "environment_variables": {},
   "exception": null,
   "input_path": "__notebook__.ipynb",
   "output_path": "__notebook__.ipynb",
   "parameters": {},
   "start_time": "2024-09-11T18:59:16.643831",
   "version": "2.6.0"
  }
 },
 "nbformat": 4,
 "nbformat_minor": 5
}
