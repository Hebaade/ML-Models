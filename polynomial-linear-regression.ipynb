{
 "cells": [
  {
   "cell_type": "code",
   "execution_count": 1,
   "id": "f07e045f",
   "metadata": {
    "execution": {
     "iopub.execute_input": "2024-09-12T08:32:08.797505Z",
     "iopub.status.busy": "2024-09-12T08:32:08.796983Z",
     "iopub.status.idle": "2024-09-12T08:32:09.284821Z",
     "shell.execute_reply": "2024-09-12T08:32:09.283371Z"
    },
    "papermill": {
     "duration": 0.499636,
     "end_time": "2024-09-12T08:32:09.288165",
     "exception": false,
     "start_time": "2024-09-12T08:32:08.788529",
     "status": "completed"
    },
    "tags": []
   },
   "outputs": [],
   "source": [
    "import numpy as np\n",
    "import pandas as pd\n",
    "import matplotlib.pyplot as plt"
   ]
  },
  {
   "cell_type": "code",
   "execution_count": 2,
   "id": "190804b9",
   "metadata": {
    "execution": {
     "iopub.execute_input": "2024-09-12T08:32:09.300664Z",
     "iopub.status.busy": "2024-09-12T08:32:09.299022Z",
     "iopub.status.idle": "2024-09-12T08:32:09.325386Z",
     "shell.execute_reply": "2024-09-12T08:32:09.323807Z"
    },
    "papermill": {
     "duration": 0.035956,
     "end_time": "2024-09-12T08:32:09.328836",
     "exception": false,
     "start_time": "2024-09-12T08:32:09.292880",
     "status": "completed"
    },
    "tags": []
   },
   "outputs": [],
   "source": [
    "df= pd.read_csv('/kaggle/input/polynomialregressioncsv/polynomial-regression.csv')"
   ]
  },
  {
   "cell_type": "code",
   "execution_count": 3,
   "id": "352f54ee",
   "metadata": {
    "execution": {
     "iopub.execute_input": "2024-09-12T08:32:09.339781Z",
     "iopub.status.busy": "2024-09-12T08:32:09.339239Z",
     "iopub.status.idle": "2024-09-12T08:32:09.363668Z",
     "shell.execute_reply": "2024-09-12T08:32:09.362087Z"
    },
    "papermill": {
     "duration": 0.033393,
     "end_time": "2024-09-12T08:32:09.366628",
     "exception": false,
     "start_time": "2024-09-12T08:32:09.333235",
     "status": "completed"
    },
    "tags": []
   },
   "outputs": [
    {
     "data": {
      "text/html": [
       "<div>\n",
       "<style scoped>\n",
       "    .dataframe tbody tr th:only-of-type {\n",
       "        vertical-align: middle;\n",
       "    }\n",
       "\n",
       "    .dataframe tbody tr th {\n",
       "        vertical-align: top;\n",
       "    }\n",
       "\n",
       "    .dataframe thead th {\n",
       "        text-align: right;\n",
       "    }\n",
       "</style>\n",
       "<table border=\"1\" class=\"dataframe\">\n",
       "  <thead>\n",
       "    <tr style=\"text-align: right;\">\n",
       "      <th></th>\n",
       "      <th>araba_fiyat</th>\n",
       "      <th>araba_max_hiz</th>\n",
       "    </tr>\n",
       "  </thead>\n",
       "  <tbody>\n",
       "    <tr>\n",
       "      <th>0</th>\n",
       "      <td>60</td>\n",
       "      <td>180</td>\n",
       "    </tr>\n",
       "    <tr>\n",
       "      <th>1</th>\n",
       "      <td>70</td>\n",
       "      <td>180</td>\n",
       "    </tr>\n",
       "    <tr>\n",
       "      <th>2</th>\n",
       "      <td>80</td>\n",
       "      <td>200</td>\n",
       "    </tr>\n",
       "    <tr>\n",
       "      <th>3</th>\n",
       "      <td>100</td>\n",
       "      <td>200</td>\n",
       "    </tr>\n",
       "    <tr>\n",
       "      <th>4</th>\n",
       "      <td>120</td>\n",
       "      <td>200</td>\n",
       "    </tr>\n",
       "  </tbody>\n",
       "</table>\n",
       "</div>"
      ],
      "text/plain": [
       "   araba_fiyat  araba_max_hiz\n",
       "0           60            180\n",
       "1           70            180\n",
       "2           80            200\n",
       "3          100            200\n",
       "4          120            200"
      ]
     },
     "execution_count": 3,
     "metadata": {},
     "output_type": "execute_result"
    }
   ],
   "source": [
    "df.head()"
   ]
  },
  {
   "cell_type": "code",
   "execution_count": 4,
   "id": "b05f478e",
   "metadata": {
    "execution": {
     "iopub.execute_input": "2024-09-12T08:32:09.377762Z",
     "iopub.status.busy": "2024-09-12T08:32:09.377206Z",
     "iopub.status.idle": "2024-09-12T08:32:09.394191Z",
     "shell.execute_reply": "2024-09-12T08:32:09.392847Z"
    },
    "papermill": {
     "duration": 0.026203,
     "end_time": "2024-09-12T08:32:09.397344",
     "exception": false,
     "start_time": "2024-09-12T08:32:09.371141",
     "status": "completed"
    },
    "tags": []
   },
   "outputs": [
    {
     "data": {
      "text/plain": [
       "araba_fiyat      0\n",
       "araba_max_hiz    0\n",
       "dtype: int64"
      ]
     },
     "execution_count": 4,
     "metadata": {},
     "output_type": "execute_result"
    }
   ],
   "source": [
    "df.isnull().sum()"
   ]
  },
  {
   "cell_type": "code",
   "execution_count": 5,
   "id": "a4b477af",
   "metadata": {
    "execution": {
     "iopub.execute_input": "2024-09-12T08:32:09.408566Z",
     "iopub.status.busy": "2024-09-12T08:32:09.408102Z",
     "iopub.status.idle": "2024-09-12T08:32:09.414997Z",
     "shell.execute_reply": "2024-09-12T08:32:09.413739Z"
    },
    "papermill": {
     "duration": 0.015742,
     "end_time": "2024-09-12T08:32:09.417783",
     "exception": false,
     "start_time": "2024-09-12T08:32:09.402041",
     "status": "completed"
    },
    "tags": []
   },
   "outputs": [],
   "source": [
    "x=df.iloc[:,:-1].values\n",
    "y=df.iloc[:,-1].values"
   ]
  },
  {
   "cell_type": "code",
   "execution_count": 6,
   "id": "2da084d0",
   "metadata": {
    "execution": {
     "iopub.execute_input": "2024-09-12T08:32:09.429531Z",
     "iopub.status.busy": "2024-09-12T08:32:09.428936Z",
     "iopub.status.idle": "2024-09-12T08:32:09.439421Z",
     "shell.execute_reply": "2024-09-12T08:32:09.438070Z"
    },
    "papermill": {
     "duration": 0.019653,
     "end_time": "2024-09-12T08:32:09.442205",
     "exception": false,
     "start_time": "2024-09-12T08:32:09.422552",
     "status": "completed"
    },
    "tags": []
   },
   "outputs": [
    {
     "data": {
      "text/plain": [
       "array([[  60],\n",
       "       [  70],\n",
       "       [  80],\n",
       "       [ 100],\n",
       "       [ 120],\n",
       "       [ 150],\n",
       "       [ 200],\n",
       "       [ 250],\n",
       "       [ 300],\n",
       "       [ 400],\n",
       "       [ 500],\n",
       "       [ 750],\n",
       "       [1000],\n",
       "       [2000],\n",
       "       [3000]])"
      ]
     },
     "execution_count": 6,
     "metadata": {},
     "output_type": "execute_result"
    }
   ],
   "source": [
    "x"
   ]
  },
  {
   "cell_type": "code",
   "execution_count": 7,
   "id": "f6c77cc9",
   "metadata": {
    "execution": {
     "iopub.execute_input": "2024-09-12T08:32:09.453626Z",
     "iopub.status.busy": "2024-09-12T08:32:09.453171Z",
     "iopub.status.idle": "2024-09-12T08:32:09.461225Z",
     "shell.execute_reply": "2024-09-12T08:32:09.459974Z"
    },
    "papermill": {
     "duration": 0.017146,
     "end_time": "2024-09-12T08:32:09.464067",
     "exception": false,
     "start_time": "2024-09-12T08:32:09.446921",
     "status": "completed"
    },
    "tags": []
   },
   "outputs": [
    {
     "data": {
      "text/plain": [
       "array([180, 180, 200, 200, 200, 220, 240, 240, 300, 350, 350, 360, 365,\n",
       "       365, 365])"
      ]
     },
     "execution_count": 7,
     "metadata": {},
     "output_type": "execute_result"
    }
   ],
   "source": [
    "y"
   ]
  },
  {
   "cell_type": "code",
   "execution_count": 8,
   "id": "c9eac817",
   "metadata": {
    "execution": {
     "iopub.execute_input": "2024-09-12T08:32:09.476483Z",
     "iopub.status.busy": "2024-09-12T08:32:09.475945Z",
     "iopub.status.idle": "2024-09-12T08:32:11.412047Z",
     "shell.execute_reply": "2024-09-12T08:32:11.410649Z"
    },
    "papermill": {
     "duration": 1.945533,
     "end_time": "2024-09-12T08:32:11.414740",
     "exception": false,
     "start_time": "2024-09-12T08:32:09.469207",
     "status": "completed"
    },
    "tags": []
   },
   "outputs": [
    {
     "data": {
      "text/html": [
       "<style>#sk-container-id-1 {color: black;background-color: white;}#sk-container-id-1 pre{padding: 0;}#sk-container-id-1 div.sk-toggleable {background-color: white;}#sk-container-id-1 label.sk-toggleable__label {cursor: pointer;display: block;width: 100%;margin-bottom: 0;padding: 0.3em;box-sizing: border-box;text-align: center;}#sk-container-id-1 label.sk-toggleable__label-arrow:before {content: \"▸\";float: left;margin-right: 0.25em;color: #696969;}#sk-container-id-1 label.sk-toggleable__label-arrow:hover:before {color: black;}#sk-container-id-1 div.sk-estimator:hover label.sk-toggleable__label-arrow:before {color: black;}#sk-container-id-1 div.sk-toggleable__content {max-height: 0;max-width: 0;overflow: hidden;text-align: left;background-color: #f0f8ff;}#sk-container-id-1 div.sk-toggleable__content pre {margin: 0.2em;color: black;border-radius: 0.25em;background-color: #f0f8ff;}#sk-container-id-1 input.sk-toggleable__control:checked~div.sk-toggleable__content {max-height: 200px;max-width: 100%;overflow: auto;}#sk-container-id-1 input.sk-toggleable__control:checked~label.sk-toggleable__label-arrow:before {content: \"▾\";}#sk-container-id-1 div.sk-estimator input.sk-toggleable__control:checked~label.sk-toggleable__label {background-color: #d4ebff;}#sk-container-id-1 div.sk-label input.sk-toggleable__control:checked~label.sk-toggleable__label {background-color: #d4ebff;}#sk-container-id-1 input.sk-hidden--visually {border: 0;clip: rect(1px 1px 1px 1px);clip: rect(1px, 1px, 1px, 1px);height: 1px;margin: -1px;overflow: hidden;padding: 0;position: absolute;width: 1px;}#sk-container-id-1 div.sk-estimator {font-family: monospace;background-color: #f0f8ff;border: 1px dotted black;border-radius: 0.25em;box-sizing: border-box;margin-bottom: 0.5em;}#sk-container-id-1 div.sk-estimator:hover {background-color: #d4ebff;}#sk-container-id-1 div.sk-parallel-item::after {content: \"\";width: 100%;border-bottom: 1px solid gray;flex-grow: 1;}#sk-container-id-1 div.sk-label:hover label.sk-toggleable__label {background-color: #d4ebff;}#sk-container-id-1 div.sk-serial::before {content: \"\";position: absolute;border-left: 1px solid gray;box-sizing: border-box;top: 0;bottom: 0;left: 50%;z-index: 0;}#sk-container-id-1 div.sk-serial {display: flex;flex-direction: column;align-items: center;background-color: white;padding-right: 0.2em;padding-left: 0.2em;position: relative;}#sk-container-id-1 div.sk-item {position: relative;z-index: 1;}#sk-container-id-1 div.sk-parallel {display: flex;align-items: stretch;justify-content: center;background-color: white;position: relative;}#sk-container-id-1 div.sk-item::before, #sk-container-id-1 div.sk-parallel-item::before {content: \"\";position: absolute;border-left: 1px solid gray;box-sizing: border-box;top: 0;bottom: 0;left: 50%;z-index: -1;}#sk-container-id-1 div.sk-parallel-item {display: flex;flex-direction: column;z-index: 1;position: relative;background-color: white;}#sk-container-id-1 div.sk-parallel-item:first-child::after {align-self: flex-end;width: 50%;}#sk-container-id-1 div.sk-parallel-item:last-child::after {align-self: flex-start;width: 50%;}#sk-container-id-1 div.sk-parallel-item:only-child::after {width: 0;}#sk-container-id-1 div.sk-dashed-wrapped {border: 1px dashed gray;margin: 0 0.4em 0.5em 0.4em;box-sizing: border-box;padding-bottom: 0.4em;background-color: white;}#sk-container-id-1 div.sk-label label {font-family: monospace;font-weight: bold;display: inline-block;line-height: 1.2em;}#sk-container-id-1 div.sk-label-container {text-align: center;}#sk-container-id-1 div.sk-container {/* jupyter's `normalize.less` sets `[hidden] { display: none; }` but bootstrap.min.css set `[hidden] { display: none !important; }` so we also need the `!important` here to be able to override the default hidden behavior on the sphinx rendered scikit-learn.org. See: https://github.com/scikit-learn/scikit-learn/issues/21755 */display: inline-block !important;position: relative;}#sk-container-id-1 div.sk-text-repr-fallback {display: none;}</style><div id=\"sk-container-id-1\" class=\"sk-top-container\"><div class=\"sk-text-repr-fallback\"><pre>LinearRegression()</pre><b>In a Jupyter environment, please rerun this cell to show the HTML representation or trust the notebook. <br />On GitHub, the HTML representation is unable to render, please try loading this page with nbviewer.org.</b></div><div class=\"sk-container\" hidden><div class=\"sk-item\"><div class=\"sk-estimator sk-toggleable\"><input class=\"sk-toggleable__control sk-hidden--visually\" id=\"sk-estimator-id-1\" type=\"checkbox\" checked><label for=\"sk-estimator-id-1\" class=\"sk-toggleable__label sk-toggleable__label-arrow\">LinearRegression</label><div class=\"sk-toggleable__content\"><pre>LinearRegression()</pre></div></div></div></div></div>"
      ],
      "text/plain": [
       "LinearRegression()"
      ]
     },
     "execution_count": 8,
     "metadata": {},
     "output_type": "execute_result"
    }
   ],
   "source": [
    "from sklearn.preprocessing import PolynomialFeatures\n",
    "from sklearn.linear_model import LinearRegression\n",
    "poly_reg=PolynomialFeatures(degree=4)\n",
    "x_poly=poly_reg.fit_transform(x)\n",
    "lin_reg=LinearRegression()\n",
    "lin_reg.fit(x_poly,y)"
   ]
  },
  {
   "cell_type": "code",
   "execution_count": 9,
   "id": "da7cbf42",
   "metadata": {
    "execution": {
     "iopub.execute_input": "2024-09-12T08:32:11.428187Z",
     "iopub.status.busy": "2024-09-12T08:32:11.427448Z",
     "iopub.status.idle": "2024-09-12T08:32:11.792126Z",
     "shell.execute_reply": "2024-09-12T08:32:11.790577Z"
    },
    "papermill": {
     "duration": 0.374568,
     "end_time": "2024-09-12T08:32:11.794786",
     "exception": false,
     "start_time": "2024-09-12T08:32:11.420218",
     "status": "completed"
    },
    "tags": []
   },
   "outputs": [
    {
     "data": {
      "image/png": "[encoded data removed]",
      "text/plain": [
       "<Figure size 640x480 with 1 Axes>"
      ]
     },
     "metadata": {},
     "output_type": "display_data"
    }
   ],
   "source": [
    "plt.scatter(x,y ,color=\"red\")\n",
    "plt.plot(x,lin_reg.predict(poly_reg.fit_transform(x)),color=\"blue\")\n",
    "plt.title(\"(poly Regression)\")\n",
    "plt.ylabel(\"araba_max_hiz \")\n",
    "plt.xlabel(\"araba_fiyat\")\n",
    "plt.show()"
   ]
  }
 ],
 "metadata": {
  "kaggle": {
   "accelerator": "none",
   "dataSources": [
    {
     "datasetId": 41174,
     "sourceId": 66849,
     "sourceType": "datasetVersion"
    }
   ],
   "dockerImageVersionId": 30761,
   "isGpuEnabled": false,
   "isInternetEnabled": true,
   "language": "python",
   "sourceType": "notebook"
  },
  "kernelspec": {
   "display_name": "Python 3",
   "language": "python",
   "name": "python3"
  },
  "language_info": {
   "codemirror_mode": {
    "name": "ipython",
    "version": 3
   },
   "file_extension": ".py",
   "mimetype": "text/x-python",
   "name": "python",
   "nbconvert_exporter": "python",
   "pygments_lexer": "ipython3",
   "version": "3.10.14"
  },
  "papermill": {
   "default_parameters": {},
   "duration": 7.469163,
   "end_time": "2024-09-12T08:32:12.826946",
   "environment_variables": {},
   "exception": null,
   "input_path": "__notebook__.ipynb",
   "output_path": "__notebook__.ipynb",
   "parameters": {},
   "start_time": "2024-09-12T08:32:05.357783",
   "version": "2.6.0"
  }
 },
 "nbformat": 4,
 "nbformat_minor": 5
}
