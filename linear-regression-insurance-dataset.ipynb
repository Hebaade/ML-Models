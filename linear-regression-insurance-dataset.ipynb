{
 "cells": [
  {
   "cell_type": "code",
   "execution_count": 1,
   "id": "05fdd152",
   "metadata": {
    "execution": {
     "iopub.execute_input": "2024-09-11T16:43:59.386253Z",
     "iopub.status.busy": "2024-09-11T16:43:59.385773Z",
     "iopub.status.idle": "2024-09-11T16:43:59.773558Z",
     "shell.execute_reply": "2024-09-11T16:43:59.772635Z"
    },
    "papermill": {
     "duration": 0.399752,
     "end_time": "2024-09-11T16:43:59.776105",
     "exception": false,
     "start_time": "2024-09-11T16:43:59.376353",
     "status": "completed"
    },
    "tags": []
   },
   "outputs": [],
   "source": [
    "import numpy as nnp\n",
    "import pandas as pd\n",
    "import matplotlib.pyplot as plt"
   ]
  },
  {
   "cell_type": "code",
   "execution_count": 2,
   "id": "601f3f19",
   "metadata": {
    "execution": {
     "iopub.execute_input": "2024-09-11T16:43:59.791339Z",
     "iopub.status.busy": "2024-09-11T16:43:59.790885Z",
     "iopub.status.idle": "2024-09-11T16:43:59.806563Z",
     "shell.execute_reply": "2024-09-11T16:43:59.805753Z"
    },
    "papermill": {
     "duration": 0.025539,
     "end_time": "2024-09-11T16:43:59.808710",
     "exception": false,
     "start_time": "2024-09-11T16:43:59.783171",
     "status": "completed"
    },
    "tags": []
   },
   "outputs": [],
   "source": [
    "df=pd.read_csv('/kaggle/input/insurance-dataset-simple-linear-regression/simplelinearregression.csv')"
   ]
  },
  {
   "cell_type": "code",
   "execution_count": 3,
   "id": "3a2fe7fc",
   "metadata": {
    "execution": {
     "iopub.execute_input": "2024-09-11T16:43:59.822956Z",
     "iopub.status.busy": "2024-09-11T16:43:59.822634Z",
     "iopub.status.idle": "2024-09-11T16:43:59.838634Z",
     "shell.execute_reply": "2024-09-11T16:43:59.837831Z"
    },
    "papermill": {
     "duration": 0.025448,
     "end_time": "2024-09-11T16:43:59.840753",
     "exception": false,
     "start_time": "2024-09-11T16:43:59.815305",
     "status": "completed"
    },
    "tags": []
   },
   "outputs": [
    {
     "data": {
      "text/html": [
       "<div>\n",
       "<style scoped>\n",
       "    .dataframe tbody tr th:only-of-type {\n",
       "        vertical-align: middle;\n",
       "    }\n",
       "\n",
       "    .dataframe tbody tr th {\n",
       "        vertical-align: top;\n",
       "    }\n",
       "\n",
       "    .dataframe thead th {\n",
       "        text-align: right;\n",
       "    }\n",
       "</style>\n",
       "<table border=\"1\" class=\"dataframe\">\n",
       "  <thead>\n",
       "    <tr style=\"text-align: right;\">\n",
       "      <th></th>\n",
       "      <th>Age</th>\n",
       "      <th>Premium</th>\n",
       "    </tr>\n",
       "  </thead>\n",
       "  <tbody>\n",
       "    <tr>\n",
       "      <th>0</th>\n",
       "      <td>18</td>\n",
       "      <td>10000</td>\n",
       "    </tr>\n",
       "    <tr>\n",
       "      <th>1</th>\n",
       "      <td>22</td>\n",
       "      <td>15000</td>\n",
       "    </tr>\n",
       "    <tr>\n",
       "      <th>2</th>\n",
       "      <td>23</td>\n",
       "      <td>18000</td>\n",
       "    </tr>\n",
       "    <tr>\n",
       "      <th>3</th>\n",
       "      <td>26</td>\n",
       "      <td>21000</td>\n",
       "    </tr>\n",
       "    <tr>\n",
       "      <th>4</th>\n",
       "      <td>28</td>\n",
       "      <td>24000</td>\n",
       "    </tr>\n",
       "  </tbody>\n",
       "</table>\n",
       "</div>"
      ],
      "text/plain": [
       "   Age  Premium\n",
       "0   18    10000\n",
       "1   22    15000\n",
       "2   23    18000\n",
       "3   26    21000\n",
       "4   28    24000"
      ]
     },
     "execution_count": 3,
     "metadata": {},
     "output_type": "execute_result"
    }
   ],
   "source": [
    "df.head()"
   ]
  },
  {
   "cell_type": "code",
   "execution_count": 4,
   "id": "230a282c",
   "metadata": {
    "execution": {
     "iopub.execute_input": "2024-09-11T16:43:59.855147Z",
     "iopub.status.busy": "2024-09-11T16:43:59.854797Z",
     "iopub.status.idle": "2024-09-11T16:43:59.873823Z",
     "shell.execute_reply": "2024-09-11T16:43:59.872910Z"
    },
    "papermill": {
     "duration": 0.028558,
     "end_time": "2024-09-11T16:43:59.875979",
     "exception": false,
     "start_time": "2024-09-11T16:43:59.847421",
     "status": "completed"
    },
    "tags": []
   },
   "outputs": [
    {
     "data": {
      "text/html": [
       "<div>\n",
       "<style scoped>\n",
       "    .dataframe tbody tr th:only-of-type {\n",
       "        vertical-align: middle;\n",
       "    }\n",
       "\n",
       "    .dataframe tbody tr th {\n",
       "        vertical-align: top;\n",
       "    }\n",
       "\n",
       "    .dataframe thead th {\n",
       "        text-align: right;\n",
       "    }\n",
       "</style>\n",
       "<table border=\"1\" class=\"dataframe\">\n",
       "  <thead>\n",
       "    <tr style=\"text-align: right;\">\n",
       "      <th></th>\n",
       "      <th>Age</th>\n",
       "      <th>Premium</th>\n",
       "    </tr>\n",
       "  </thead>\n",
       "  <tbody>\n",
       "    <tr>\n",
       "      <th>count</th>\n",
       "      <td>7.000000</td>\n",
       "      <td>7.000000</td>\n",
       "    </tr>\n",
       "    <tr>\n",
       "      <th>mean</th>\n",
       "      <td>25.857143</td>\n",
       "      <td>20214.285714</td>\n",
       "    </tr>\n",
       "    <tr>\n",
       "      <th>std</th>\n",
       "      <td>5.273474</td>\n",
       "      <td>6283.955382</td>\n",
       "    </tr>\n",
       "    <tr>\n",
       "      <th>min</th>\n",
       "      <td>18.000000</td>\n",
       "      <td>10000.000000</td>\n",
       "    </tr>\n",
       "    <tr>\n",
       "      <th>25%</th>\n",
       "      <td>22.500000</td>\n",
       "      <td>16500.000000</td>\n",
       "    </tr>\n",
       "    <tr>\n",
       "      <th>50%</th>\n",
       "      <td>26.000000</td>\n",
       "      <td>21000.000000</td>\n",
       "    </tr>\n",
       "    <tr>\n",
       "      <th>75%</th>\n",
       "      <td>29.500000</td>\n",
       "      <td>25250.000000</td>\n",
       "    </tr>\n",
       "    <tr>\n",
       "      <th>max</th>\n",
       "      <td>33.000000</td>\n",
       "      <td>27000.000000</td>\n",
       "    </tr>\n",
       "  </tbody>\n",
       "</table>\n",
       "</div>"
      ],
      "text/plain": [
       "             Age       Premium\n",
       "count   7.000000      7.000000\n",
       "mean   25.857143  20214.285714\n",
       "std     5.273474   6283.955382\n",
       "min    18.000000  10000.000000\n",
       "25%    22.500000  16500.000000\n",
       "50%    26.000000  21000.000000\n",
       "75%    29.500000  25250.000000\n",
       "max    33.000000  27000.000000"
      ]
     },
     "execution_count": 4,
     "metadata": {},
     "output_type": "execute_result"
    }
   ],
   "source": [
    "df.describe()"
   ]
  },
  {
   "cell_type": "code",
   "execution_count": 5,
   "id": "dfa3d841",
   "metadata": {
    "execution": {
     "iopub.execute_input": "2024-09-11T16:43:59.890505Z",
     "iopub.status.busy": "2024-09-11T16:43:59.890205Z",
     "iopub.status.idle": "2024-09-11T16:43:59.897748Z",
     "shell.execute_reply": "2024-09-11T16:43:59.896799Z"
    },
    "papermill": {
     "duration": 0.017225,
     "end_time": "2024-09-11T16:43:59.899719",
     "exception": false,
     "start_time": "2024-09-11T16:43:59.882494",
     "status": "completed"
    },
    "tags": []
   },
   "outputs": [
    {
     "data": {
      "text/plain": [
       "Age        0\n",
       "Premium    0\n",
       "dtype: int64"
      ]
     },
     "execution_count": 5,
     "metadata": {},
     "output_type": "execute_result"
    }
   ],
   "source": [
    "df.isnull().sum()"
   ]
  },
  {
   "cell_type": "code",
   "execution_count": 6,
   "id": "806ce76f",
   "metadata": {
    "execution": {
     "iopub.execute_input": "2024-09-11T16:43:59.914866Z",
     "iopub.status.busy": "2024-09-11T16:43:59.914519Z",
     "iopub.status.idle": "2024-09-11T16:43:59.922962Z",
     "shell.execute_reply": "2024-09-11T16:43:59.922176Z"
    },
    "papermill": {
     "duration": 0.018339,
     "end_time": "2024-09-11T16:43:59.924997",
     "exception": false,
     "start_time": "2024-09-11T16:43:59.906658",
     "status": "completed"
    },
    "tags": []
   },
   "outputs": [],
   "source": [
    "x=df[['Age']]\n",
    "y=df[['Premium']]"
   ]
  },
  {
   "cell_type": "code",
   "execution_count": 7,
   "id": "69eb70e1",
   "metadata": {
    "execution": {
     "iopub.execute_input": "2024-09-11T16:43:59.940527Z",
     "iopub.status.busy": "2024-09-11T16:43:59.939936Z",
     "iopub.status.idle": "2024-09-11T16:43:59.947966Z",
     "shell.execute_reply": "2024-09-11T16:43:59.947114Z"
    },
    "papermill": {
     "duration": 0.017926,
     "end_time": "2024-09-11T16:43:59.949965",
     "exception": false,
     "start_time": "2024-09-11T16:43:59.932039",
     "status": "completed"
    },
    "tags": []
   },
   "outputs": [
    {
     "data": {
      "text/html": [
       "<div>\n",
       "<style scoped>\n",
       "    .dataframe tbody tr th:only-of-type {\n",
       "        vertical-align: middle;\n",
       "    }\n",
       "\n",
       "    .dataframe tbody tr th {\n",
       "        vertical-align: top;\n",
       "    }\n",
       "\n",
       "    .dataframe thead th {\n",
       "        text-align: right;\n",
       "    }\n",
       "</style>\n",
       "<table border=\"1\" class=\"dataframe\">\n",
       "  <thead>\n",
       "    <tr style=\"text-align: right;\">\n",
       "      <th></th>\n",
       "      <th>Age</th>\n",
       "    </tr>\n",
       "  </thead>\n",
       "  <tbody>\n",
       "    <tr>\n",
       "      <th>0</th>\n",
       "      <td>18</td>\n",
       "    </tr>\n",
       "    <tr>\n",
       "      <th>1</th>\n",
       "      <td>22</td>\n",
       "    </tr>\n",
       "    <tr>\n",
       "      <th>2</th>\n",
       "      <td>23</td>\n",
       "    </tr>\n",
       "    <tr>\n",
       "      <th>3</th>\n",
       "      <td>26</td>\n",
       "    </tr>\n",
       "    <tr>\n",
       "      <th>4</th>\n",
       "      <td>28</td>\n",
       "    </tr>\n",
       "    <tr>\n",
       "      <th>5</th>\n",
       "      <td>31</td>\n",
       "    </tr>\n",
       "    <tr>\n",
       "      <th>6</th>\n",
       "      <td>33</td>\n",
       "    </tr>\n",
       "  </tbody>\n",
       "</table>\n",
       "</div>"
      ],
      "text/plain": [
       "   Age\n",
       "0   18\n",
       "1   22\n",
       "2   23\n",
       "3   26\n",
       "4   28\n",
       "5   31\n",
       "6   33"
      ]
     },
     "execution_count": 7,
     "metadata": {},
     "output_type": "execute_result"
    }
   ],
   "source": [
    "x"
   ]
  },
  {
   "cell_type": "code",
   "execution_count": 8,
   "id": "24a0c7de",
   "metadata": {
    "execution": {
     "iopub.execute_input": "2024-09-11T16:43:59.966582Z",
     "iopub.status.busy": "2024-09-11T16:43:59.965710Z",
     "iopub.status.idle": "2024-09-11T16:43:59.974047Z",
     "shell.execute_reply": "2024-09-11T16:43:59.973131Z"
    },
    "papermill": {
     "duration": 0.018956,
     "end_time": "2024-09-11T16:43:59.976400",
     "exception": false,
     "start_time": "2024-09-11T16:43:59.957444",
     "status": "completed"
    },
    "tags": []
   },
   "outputs": [
    {
     "data": {
      "text/html": [
       "<div>\n",
       "<style scoped>\n",
       "    .dataframe tbody tr th:only-of-type {\n",
       "        vertical-align: middle;\n",
       "    }\n",
       "\n",
       "    .dataframe tbody tr th {\n",
       "        vertical-align: top;\n",
       "    }\n",
       "\n",
       "    .dataframe thead th {\n",
       "        text-align: right;\n",
       "    }\n",
       "</style>\n",
       "<table border=\"1\" class=\"dataframe\">\n",
       "  <thead>\n",
       "    <tr style=\"text-align: right;\">\n",
       "      <th></th>\n",
       "      <th>Premium</th>\n",
       "    </tr>\n",
       "  </thead>\n",
       "  <tbody>\n",
       "    <tr>\n",
       "      <th>0</th>\n",
       "      <td>10000</td>\n",
       "    </tr>\n",
       "    <tr>\n",
       "      <th>1</th>\n",
       "      <td>15000</td>\n",
       "    </tr>\n",
       "    <tr>\n",
       "      <th>2</th>\n",
       "      <td>18000</td>\n",
       "    </tr>\n",
       "    <tr>\n",
       "      <th>3</th>\n",
       "      <td>21000</td>\n",
       "    </tr>\n",
       "    <tr>\n",
       "      <th>4</th>\n",
       "      <td>24000</td>\n",
       "    </tr>\n",
       "    <tr>\n",
       "      <th>5</th>\n",
       "      <td>26500</td>\n",
       "    </tr>\n",
       "    <tr>\n",
       "      <th>6</th>\n",
       "      <td>27000</td>\n",
       "    </tr>\n",
       "  </tbody>\n",
       "</table>\n",
       "</div>"
      ],
      "text/plain": [
       "   Premium\n",
       "0    10000\n",
       "1    15000\n",
       "2    18000\n",
       "3    21000\n",
       "4    24000\n",
       "5    26500\n",
       "6    27000"
      ]
     },
     "execution_count": 8,
     "metadata": {},
     "output_type": "execute_result"
    }
   ],
   "source": [
    "y"
   ]
  },
  {
   "cell_type": "code",
   "execution_count": 9,
   "id": "0f16ec7c",
   "metadata": {
    "execution": {
     "iopub.execute_input": "2024-09-11T16:43:59.992294Z",
     "iopub.status.busy": "2024-09-11T16:43:59.991787Z",
     "iopub.status.idle": "2024-09-11T16:44:00.303090Z",
     "shell.execute_reply": "2024-09-11T16:44:00.302141Z"
    },
    "papermill": {
     "duration": 0.323014,
     "end_time": "2024-09-11T16:44:00.306533",
     "exception": false,
     "start_time": "2024-09-11T16:43:59.983519",
     "status": "completed"
    },
    "tags": []
   },
   "outputs": [
    {
     "data": {
      "image/png": "[encoded data removed]",
      "text/plain": [
       "<Figure size 640x480 with 1 Axes>"
      ]
     },
     "metadata": {},
     "output_type": "display_data"
    }
   ],
   "source": [
    "plt.scatter(x,y)\n",
    "plt.title(\" Age VS Premium\")\n",
    "plt.xlabel('Age')\n",
    "plt.ylabel(\"Premium\")\n",
    "plt.show()"
   ]
  },
  {
   "cell_type": "code",
   "execution_count": 10,
   "id": "9580a080",
   "metadata": {
    "execution": {
     "iopub.execute_input": "2024-09-11T16:44:00.326870Z",
     "iopub.status.busy": "2024-09-11T16:44:00.326529Z",
     "iopub.status.idle": "2024-09-11T16:44:01.597825Z",
     "shell.execute_reply": "2024-09-11T16:44:01.596939Z"
    },
    "papermill": {
     "duration": 1.282371,
     "end_time": "2024-09-11T16:44:01.600264",
     "exception": false,
     "start_time": "2024-09-11T16:44:00.317893",
     "status": "completed"
    },
    "tags": []
   },
   "outputs": [],
   "source": [
    "from sklearn.model_selection import train_test_split\n",
    "x_train,x_test,y_train,y_test=train_test_split(x,y,test_size=0.2,random_state=42)"
   ]
  },
  {
   "cell_type": "code",
   "execution_count": 11,
   "id": "1e83052c",
   "metadata": {
    "execution": {
     "iopub.execute_input": "2024-09-11T16:44:01.618636Z",
     "iopub.status.busy": "2024-09-11T16:44:01.617694Z",
     "iopub.status.idle": "2024-09-11T16:44:01.626456Z",
     "shell.execute_reply": "2024-09-11T16:44:01.625499Z"
    },
    "papermill": {
     "duration": 0.019993,
     "end_time": "2024-09-11T16:44:01.628588",
     "exception": false,
     "start_time": "2024-09-11T16:44:01.608595",
     "status": "completed"
    },
    "tags": []
   },
   "outputs": [
    {
     "data": {
      "text/html": [
       "<div>\n",
       "<style scoped>\n",
       "    .dataframe tbody tr th:only-of-type {\n",
       "        vertical-align: middle;\n",
       "    }\n",
       "\n",
       "    .dataframe tbody tr th {\n",
       "        vertical-align: top;\n",
       "    }\n",
       "\n",
       "    .dataframe thead th {\n",
       "        text-align: right;\n",
       "    }\n",
       "</style>\n",
       "<table border=\"1\" class=\"dataframe\">\n",
       "  <thead>\n",
       "    <tr style=\"text-align: right;\">\n",
       "      <th></th>\n",
       "      <th>Age</th>\n",
       "    </tr>\n",
       "  </thead>\n",
       "  <tbody>\n",
       "    <tr>\n",
       "      <th>5</th>\n",
       "      <td>31</td>\n",
       "    </tr>\n",
       "    <tr>\n",
       "      <th>2</th>\n",
       "      <td>23</td>\n",
       "    </tr>\n",
       "    <tr>\n",
       "      <th>4</th>\n",
       "      <td>28</td>\n",
       "    </tr>\n",
       "    <tr>\n",
       "      <th>3</th>\n",
       "      <td>26</td>\n",
       "    </tr>\n",
       "    <tr>\n",
       "      <th>6</th>\n",
       "      <td>33</td>\n",
       "    </tr>\n",
       "  </tbody>\n",
       "</table>\n",
       "</div>"
      ],
      "text/plain": [
       "   Age\n",
       "5   31\n",
       "2   23\n",
       "4   28\n",
       "3   26\n",
       "6   33"
      ]
     },
     "execution_count": 11,
     "metadata": {},
     "output_type": "execute_result"
    }
   ],
   "source": [
    "x_train"
   ]
  },
  {
   "cell_type": "code",
   "execution_count": 12,
   "id": "3277d825",
   "metadata": {
    "execution": {
     "iopub.execute_input": "2024-09-11T16:44:01.645878Z",
     "iopub.status.busy": "2024-09-11T16:44:01.645529Z",
     "iopub.status.idle": "2024-09-11T16:44:01.653463Z",
     "shell.execute_reply": "2024-09-11T16:44:01.652421Z"
    },
    "papermill": {
     "duration": 0.018882,
     "end_time": "2024-09-11T16:44:01.655512",
     "exception": false,
     "start_time": "2024-09-11T16:44:01.636630",
     "status": "completed"
    },
    "tags": []
   },
   "outputs": [
    {
     "data": {
      "text/html": [
       "<div>\n",
       "<style scoped>\n",
       "    .dataframe tbody tr th:only-of-type {\n",
       "        vertical-align: middle;\n",
       "    }\n",
       "\n",
       "    .dataframe tbody tr th {\n",
       "        vertical-align: top;\n",
       "    }\n",
       "\n",
       "    .dataframe thead th {\n",
       "        text-align: right;\n",
       "    }\n",
       "</style>\n",
       "<table border=\"1\" class=\"dataframe\">\n",
       "  <thead>\n",
       "    <tr style=\"text-align: right;\">\n",
       "      <th></th>\n",
       "      <th>Age</th>\n",
       "    </tr>\n",
       "  </thead>\n",
       "  <tbody>\n",
       "    <tr>\n",
       "      <th>0</th>\n",
       "      <td>18</td>\n",
       "    </tr>\n",
       "    <tr>\n",
       "      <th>1</th>\n",
       "      <td>22</td>\n",
       "    </tr>\n",
       "  </tbody>\n",
       "</table>\n",
       "</div>"
      ],
      "text/plain": [
       "   Age\n",
       "0   18\n",
       "1   22"
      ]
     },
     "execution_count": 12,
     "metadata": {},
     "output_type": "execute_result"
    }
   ],
   "source": [
    "x_test"
   ]
  },
  {
   "cell_type": "code",
   "execution_count": 13,
   "id": "3e55997f",
   "metadata": {
    "execution": {
     "iopub.execute_input": "2024-09-11T16:44:01.673532Z",
     "iopub.status.busy": "2024-09-11T16:44:01.672619Z",
     "iopub.status.idle": "2024-09-11T16:44:01.680816Z",
     "shell.execute_reply": "2024-09-11T16:44:01.679949Z"
    },
    "papermill": {
     "duration": 0.019212,
     "end_time": "2024-09-11T16:44:01.682756",
     "exception": false,
     "start_time": "2024-09-11T16:44:01.663544",
     "status": "completed"
    },
    "tags": []
   },
   "outputs": [
    {
     "data": {
      "text/html": [
       "<div>\n",
       "<style scoped>\n",
       "    .dataframe tbody tr th:only-of-type {\n",
       "        vertical-align: middle;\n",
       "    }\n",
       "\n",
       "    .dataframe tbody tr th {\n",
       "        vertical-align: top;\n",
       "    }\n",
       "\n",
       "    .dataframe thead th {\n",
       "        text-align: right;\n",
       "    }\n",
       "</style>\n",
       "<table border=\"1\" class=\"dataframe\">\n",
       "  <thead>\n",
       "    <tr style=\"text-align: right;\">\n",
       "      <th></th>\n",
       "      <th>Premium</th>\n",
       "    </tr>\n",
       "  </thead>\n",
       "  <tbody>\n",
       "    <tr>\n",
       "      <th>5</th>\n",
       "      <td>26500</td>\n",
       "    </tr>\n",
       "    <tr>\n",
       "      <th>2</th>\n",
       "      <td>18000</td>\n",
       "    </tr>\n",
       "    <tr>\n",
       "      <th>4</th>\n",
       "      <td>24000</td>\n",
       "    </tr>\n",
       "    <tr>\n",
       "      <th>3</th>\n",
       "      <td>21000</td>\n",
       "    </tr>\n",
       "    <tr>\n",
       "      <th>6</th>\n",
       "      <td>27000</td>\n",
       "    </tr>\n",
       "  </tbody>\n",
       "</table>\n",
       "</div>"
      ],
      "text/plain": [
       "   Premium\n",
       "5    26500\n",
       "2    18000\n",
       "4    24000\n",
       "3    21000\n",
       "6    27000"
      ]
     },
     "execution_count": 13,
     "metadata": {},
     "output_type": "execute_result"
    }
   ],
   "source": [
    "y_train"
   ]
  },
  {
   "cell_type": "code",
   "execution_count": 14,
   "id": "becb21d4",
   "metadata": {
    "execution": {
     "iopub.execute_input": "2024-09-11T16:44:01.700791Z",
     "iopub.status.busy": "2024-09-11T16:44:01.700491Z",
     "iopub.status.idle": "2024-09-11T16:44:01.711299Z",
     "shell.execute_reply": "2024-09-11T16:44:01.710140Z"
    },
    "papermill": {
     "duration": 0.02234,
     "end_time": "2024-09-11T16:44:01.713383",
     "exception": false,
     "start_time": "2024-09-11T16:44:01.691043",
     "status": "completed"
    },
    "tags": []
   },
   "outputs": [
    {
     "name": "stdout",
     "output_type": "stream",
     "text": [
      "[[ 0.79006571]\n",
      " [-1.46726488]\n",
      " [-0.05643326]\n",
      " [-0.62076591]\n",
      " [ 1.35439836]] [[-2.8780965 ]\n",
      " [-1.74943121]]\n"
     ]
    }
   ],
   "source": [
    "#performing standerdization on training data\n",
    "from sklearn.preprocessing import StandardScaler\n",
    "sc=StandardScaler()\n",
    "x_train=sc.fit_transform(x_train)\n",
    "x_test=sc.transform(x_test)\n",
    "print(x_train,x_test)"
   ]
  },
  {
   "cell_type": "code",
   "execution_count": 15,
   "id": "299d222b",
   "metadata": {
    "execution": {
     "iopub.execute_input": "2024-09-11T16:44:01.732282Z",
     "iopub.status.busy": "2024-09-11T16:44:01.731556Z",
     "iopub.status.idle": "2024-09-11T16:44:01.829691Z",
     "shell.execute_reply": "2024-09-11T16:44:01.828748Z"
    },
    "papermill": {
     "duration": 0.109883,
     "end_time": "2024-09-11T16:44:01.831844",
     "exception": false,
     "start_time": "2024-09-11T16:44:01.721961",
     "status": "completed"
    },
    "tags": []
   },
   "outputs": [
    {
     "data": {
      "text/html": [
       "<style>#sk-container-id-1 {color: black;background-color: white;}#sk-container-id-1 pre{padding: 0;}#sk-container-id-1 div.sk-toggleable {background-color: white;}#sk-container-id-1 label.sk-toggleable__label {cursor: pointer;display: block;width: 100%;margin-bottom: 0;padding: 0.3em;box-sizing: border-box;text-align: center;}#sk-container-id-1 label.sk-toggleable__label-arrow:before {content: \"▸\";float: left;margin-right: 0.25em;color: #696969;}#sk-container-id-1 label.sk-toggleable__label-arrow:hover:before {color: black;}#sk-container-id-1 div.sk-estimator:hover label.sk-toggleable__label-arrow:before {color: black;}#sk-container-id-1 div.sk-toggleable__content {max-height: 0;max-width: 0;overflow: hidden;text-align: left;background-color: #f0f8ff;}#sk-container-id-1 div.sk-toggleable__content pre {margin: 0.2em;color: black;border-radius: 0.25em;background-color: #f0f8ff;}#sk-container-id-1 input.sk-toggleable__control:checked~div.sk-toggleable__content {max-height: 200px;max-width: 100%;overflow: auto;}#sk-container-id-1 input.sk-toggleable__control:checked~label.sk-toggleable__label-arrow:before {content: \"▾\";}#sk-container-id-1 div.sk-estimator input.sk-toggleable__control:checked~label.sk-toggleable__label {background-color: #d4ebff;}#sk-container-id-1 div.sk-label input.sk-toggleable__control:checked~label.sk-toggleable__label {background-color: #d4ebff;}#sk-container-id-1 input.sk-hidden--visually {border: 0;clip: rect(1px 1px 1px 1px);clip: rect(1px, 1px, 1px, 1px);height: 1px;margin: -1px;overflow: hidden;padding: 0;position: absolute;width: 1px;}#sk-container-id-1 div.sk-estimator {font-family: monospace;background-color: #f0f8ff;border: 1px dotted black;border-radius: 0.25em;box-sizing: border-box;margin-bottom: 0.5em;}#sk-container-id-1 div.sk-estimator:hover {background-color: #d4ebff;}#sk-container-id-1 div.sk-parallel-item::after {content: \"\";width: 100%;border-bottom: 1px solid gray;flex-grow: 1;}#sk-container-id-1 div.sk-label:hover label.sk-toggleable__label {background-color: #d4ebff;}#sk-container-id-1 div.sk-serial::before {content: \"\";position: absolute;border-left: 1px solid gray;box-sizing: border-box;top: 0;bottom: 0;left: 50%;z-index: 0;}#sk-container-id-1 div.sk-serial {display: flex;flex-direction: column;align-items: center;background-color: white;padding-right: 0.2em;padding-left: 0.2em;position: relative;}#sk-container-id-1 div.sk-item {position: relative;z-index: 1;}#sk-container-id-1 div.sk-parallel {display: flex;align-items: stretch;justify-content: center;background-color: white;position: relative;}#sk-container-id-1 div.sk-item::before, #sk-container-id-1 div.sk-parallel-item::before {content: \"\";position: absolute;border-left: 1px solid gray;box-sizing: border-box;top: 0;bottom: 0;left: 50%;z-index: -1;}#sk-container-id-1 div.sk-parallel-item {display: flex;flex-direction: column;z-index: 1;position: relative;background-color: white;}#sk-container-id-1 div.sk-parallel-item:first-child::after {align-self: flex-end;width: 50%;}#sk-container-id-1 div.sk-parallel-item:last-child::after {align-self: flex-start;width: 50%;}#sk-container-id-1 div.sk-parallel-item:only-child::after {width: 0;}#sk-container-id-1 div.sk-dashed-wrapped {border: 1px dashed gray;margin: 0 0.4em 0.5em 0.4em;box-sizing: border-box;padding-bottom: 0.4em;background-color: white;}#sk-container-id-1 div.sk-label label {font-family: monospace;font-weight: bold;display: inline-block;line-height: 1.2em;}#sk-container-id-1 div.sk-label-container {text-align: center;}#sk-container-id-1 div.sk-container {/* jupyter's `normalize.less` sets `[hidden] { display: none; }` but bootstrap.min.css set `[hidden] { display: none !important; }` so we also need the `!important` here to be able to override the default hidden behavior on the sphinx rendered scikit-learn.org. See: https://github.com/scikit-learn/scikit-learn/issues/21755 */display: inline-block !important;position: relative;}#sk-container-id-1 div.sk-text-repr-fallback {display: none;}</style><div id=\"sk-container-id-1\" class=\"sk-top-container\"><div class=\"sk-text-repr-fallback\"><pre>LinearRegression()</pre><b>In a Jupyter environment, please rerun this cell to show the HTML representation or trust the notebook. <br />On GitHub, the HTML representation is unable to render, please try loading this page with nbviewer.org.</b></div><div class=\"sk-container\" hidden><div class=\"sk-item\"><div class=\"sk-estimator sk-toggleable\"><input class=\"sk-toggleable__control sk-hidden--visually\" id=\"sk-estimator-id-1\" type=\"checkbox\" checked><label for=\"sk-estimator-id-1\" class=\"sk-toggleable__label sk-toggleable__label-arrow\">LinearRegression</label><div class=\"sk-toggleable__content\"><pre>LinearRegression()</pre></div></div></div></div></div>"
      ],
      "text/plain": [
       "LinearRegression()"
      ]
     },
     "execution_count": 15,
     "metadata": {},
     "output_type": "execute_result"
    }
   ],
   "source": [
    "from sklearn.linear_model import LinearRegression\n",
    "reg=LinearRegression()\n",
    "reg.fit(x_train,y_train)"
   ]
  },
  {
   "cell_type": "code",
   "execution_count": 16,
   "id": "1e9904bb",
   "metadata": {
    "execution": {
     "iopub.execute_input": "2024-09-11T16:44:01.851436Z",
     "iopub.status.busy": "2024-09-11T16:44:01.850797Z",
     "iopub.status.idle": "2024-09-11T16:44:01.859113Z",
     "shell.execute_reply": "2024-09-11T16:44:01.858203Z"
    },
    "papermill": {
     "duration": 0.019809,
     "end_time": "2024-09-11T16:44:01.861184",
     "exception": false,
     "start_time": "2024-09-11T16:44:01.841375",
     "status": "completed"
    },
    "tags": []
   },
   "outputs": [
    {
     "data": {
      "text/html": [
       "<div>\n",
       "<style scoped>\n",
       "    .dataframe tbody tr th:only-of-type {\n",
       "        vertical-align: middle;\n",
       "    }\n",
       "\n",
       "    .dataframe tbody tr th {\n",
       "        vertical-align: top;\n",
       "    }\n",
       "\n",
       "    .dataframe thead th {\n",
       "        text-align: right;\n",
       "    }\n",
       "</style>\n",
       "<table border=\"1\" class=\"dataframe\">\n",
       "  <thead>\n",
       "    <tr style=\"text-align: right;\">\n",
       "      <th></th>\n",
       "      <th>Premium</th>\n",
       "    </tr>\n",
       "  </thead>\n",
       "  <tbody>\n",
       "    <tr>\n",
       "      <th>0</th>\n",
       "      <td>10000</td>\n",
       "    </tr>\n",
       "    <tr>\n",
       "      <th>1</th>\n",
       "      <td>15000</td>\n",
       "    </tr>\n",
       "  </tbody>\n",
       "</table>\n",
       "</div>"
      ],
      "text/plain": [
       "   Premium\n",
       "0    10000\n",
       "1    15000"
      ]
     },
     "execution_count": 16,
     "metadata": {},
     "output_type": "execute_result"
    }
   ],
   "source": [
    "y_test"
   ]
  },
  {
   "cell_type": "code",
   "execution_count": 17,
   "id": "3d6034a2",
   "metadata": {
    "execution": {
     "iopub.execute_input": "2024-09-11T16:44:01.879814Z",
     "iopub.status.busy": "2024-09-11T16:44:01.879484Z",
     "iopub.status.idle": "2024-09-11T16:44:01.883968Z",
     "shell.execute_reply": "2024-09-11T16:44:01.883038Z"
    },
    "papermill": {
     "duration": 0.016387,
     "end_time": "2024-09-11T16:44:01.886152",
     "exception": false,
     "start_time": "2024-09-11T16:44:01.869765",
     "status": "completed"
    },
    "tags": []
   },
   "outputs": [],
   "source": [
    "y_pred=reg.predict(x_test)"
   ]
  },
  {
   "cell_type": "code",
   "execution_count": 18,
   "id": "41e8afed",
   "metadata": {
    "execution": {
     "iopub.execute_input": "2024-09-11T16:44:01.905612Z",
     "iopub.status.busy": "2024-09-11T16:44:01.905240Z",
     "iopub.status.idle": "2024-09-11T16:44:01.911668Z",
     "shell.execute_reply": "2024-09-11T16:44:01.910808Z"
    },
    "papermill": {
     "duration": 0.018727,
     "end_time": "2024-09-11T16:44:01.913675",
     "exception": false,
     "start_time": "2024-09-11T16:44:01.894948",
     "status": "completed"
    },
    "tags": []
   },
   "outputs": [
    {
     "data": {
      "text/plain": [
       "array([[13684.7133758 ],\n",
       "       [17455.41401274]])"
      ]
     },
     "execution_count": 18,
     "metadata": {},
     "output_type": "execute_result"
    }
   ],
   "source": [
    "y_pred"
   ]
  },
  {
   "cell_type": "code",
   "execution_count": 19,
   "id": "1d3b0750",
   "metadata": {
    "execution": {
     "iopub.execute_input": "2024-09-11T16:44:01.933845Z",
     "iopub.status.busy": "2024-09-11T16:44:01.932984Z",
     "iopub.status.idle": "2024-09-11T16:44:02.204406Z",
     "shell.execute_reply": "2024-09-11T16:44:02.203368Z"
    },
    "papermill": {
     "duration": 0.283872,
     "end_time": "2024-09-11T16:44:02.206693",
     "exception": false,
     "start_time": "2024-09-11T16:44:01.922821",
     "status": "completed"
    },
    "tags": []
   },
   "outputs": [
    {
     "data": {
      "image/png": "[encoded data removed]",
      "text/plain": [
       "<Figure size 640x480 with 1 Axes>"
      ]
     },
     "metadata": {},
     "output_type": "display_data"
    }
   ],
   "source": [
    "plt.scatter(x_train,y_train,color=\"green\")\n",
    "plt.plot(x_train,reg.predict(x_train),color=\"red\")\n",
    "plt.title(\"Age vs Premium\")\n",
    "plt.ylabel(\"Premium\")\n",
    "plt.xlabel(\"Age\")\n",
    "plt.show()"
   ]
  },
  {
   "cell_type": "code",
   "execution_count": 20,
   "id": "22ea9c12",
   "metadata": {
    "execution": {
     "iopub.execute_input": "2024-09-11T16:44:02.227386Z",
     "iopub.status.busy": "2024-09-11T16:44:02.226993Z",
     "iopub.status.idle": "2024-09-11T16:44:02.232488Z",
     "shell.execute_reply": "2024-09-11T16:44:02.231448Z"
    },
    "papermill": {
     "duration": 0.01798,
     "end_time": "2024-09-11T16:44:02.234537",
     "exception": false,
     "start_time": "2024-09-11T16:44:02.216557",
     "status": "completed"
    },
    "tags": []
   },
   "outputs": [
    {
     "name": "stdout",
     "output_type": "stream",
     "text": [
      "[[3340.84927606]]\n",
      "[23300.]\n"
     ]
    }
   ],
   "source": [
    "print(reg.coef_)\n",
    "print(reg.intercept_)"
   ]
  },
  {
   "cell_type": "code",
   "execution_count": null,
   "id": "e71ce9a5",
   "metadata": {
    "papermill": {
     "duration": 0.009313,
     "end_time": "2024-09-11T16:44:02.253138",
     "exception": false,
     "start_time": "2024-09-11T16:44:02.243825",
     "status": "completed"
    },
    "tags": []
   },
   "outputs": [],
   "source": []
  }
 ],
 "metadata": {
  "kaggle": {
   "accelerator": "none",
   "dataSources": [
    {
     "datasetId": 3737036,
     "sourceId": 6470374,
     "sourceType": "datasetVersion"
    }
   ],
   "dockerImageVersionId": 30761,
   "isGpuEnabled": false,
   "isInternetEnabled": true,
   "language": "python",
   "sourceType": "notebook"
  },
  "kernelspec": {
   "display_name": "Python 3",
   "language": "python",
   "name": "python3"
  },
  "language_info": {
   "codemirror_mode": {
    "name": "ipython",
    "version": 3
   },
   "file_extension": ".py",
   "mimetype": "text/x-python",
   "name": "python",
   "nbconvert_exporter": "python",
   "pygments_lexer": "ipython3",
   "version": "3.10.14"
  },
  "papermill": {
   "default_parameters": {},
   "duration": 5.86,
   "end_time": "2024-09-11T16:44:02.681921",
   "environment_variables": {},
   "exception": null,
   "input_path": "__notebook__.ipynb",
   "output_path": "__notebook__.ipynb",
   "parameters": {},
   "start_time": "2024-09-11T16:43:56.821921",
   "version": "2.6.0"
  }
 },
 "nbformat": 4,
 "nbformat_minor": 5
}
