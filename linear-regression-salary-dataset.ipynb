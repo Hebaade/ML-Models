{
 "cells": [
  {
   "cell_type": "code",
   "execution_count": 1,
   "id": "50ae9cc5",
   "metadata": {
    "execution": {
     "iopub.execute_input": "2024-09-11T15:59:55.781286Z",
     "iopub.status.busy": "2024-09-11T15:59:55.780155Z",
     "iopub.status.idle": "2024-09-11T15:59:56.187372Z",
     "shell.execute_reply": "2024-09-11T15:59:56.186413Z"
    },
    "papermill": {
     "duration": 0.417637,
     "end_time": "2024-09-11T15:59:56.190074",
     "exception": false,
     "start_time": "2024-09-11T15:59:55.772437",
     "status": "completed"
    },
    "tags": []
   },
   "outputs": [],
   "source": [
    "import numpy as np \n",
    "import pandas as pd \n",
    "import matplotlib.pyplot as plt"
   ]
  },
  {
   "cell_type": "code",
   "execution_count": 2,
   "id": "46b8ce6b",
   "metadata": {
    "execution": {
     "iopub.execute_input": "2024-09-11T15:59:56.202350Z",
     "iopub.status.busy": "2024-09-11T15:59:56.201800Z",
     "iopub.status.idle": "2024-09-11T15:59:56.236125Z",
     "shell.execute_reply": "2024-09-11T15:59:56.235135Z"
    },
    "papermill": {
     "duration": 0.04333,
     "end_time": "2024-09-11T15:59:56.238786",
     "exception": false,
     "start_time": "2024-09-11T15:59:56.195456",
     "status": "completed"
    },
    "tags": []
   },
   "outputs": [],
   "source": [
    "df=pd.read_csv(r'/kaggle/input/salary-data-dataset-for-linear-regression/Salary_Data.csv')"
   ]
  },
  {
   "cell_type": "code",
   "execution_count": 3,
   "id": "45a241ed",
   "metadata": {
    "execution": {
     "iopub.execute_input": "2024-09-11T15:59:56.250750Z",
     "iopub.status.busy": "2024-09-11T15:59:56.250347Z",
     "iopub.status.idle": "2024-09-11T15:59:56.268588Z",
     "shell.execute_reply": "2024-09-11T15:59:56.267386Z"
    },
    "papermill": {
     "duration": 0.026861,
     "end_time": "2024-09-11T15:59:56.270912",
     "exception": false,
     "start_time": "2024-09-11T15:59:56.244051",
     "status": "completed"
    },
    "tags": []
   },
   "outputs": [
    {
     "name": "stdout",
     "output_type": "stream",
     "text": [
      "    YearsExperience  Salary\n",
      "0               1.1   39343\n",
      "1               1.3   46205\n",
      "2               1.5   37731\n",
      "3               2.0   43525\n",
      "4               2.2   39891\n",
      "5               2.9   56642\n",
      "6               3.0   60150\n",
      "7               3.2   54445\n",
      "8               3.2   64445\n",
      "9               3.7   57189\n",
      "10              3.9   63218\n",
      "11              4.0   55794\n",
      "12              4.0   56957\n",
      "13              4.1   57081\n",
      "14              4.5   61111\n",
      "15              4.9   67938\n",
      "16              5.1   66029\n",
      "17              5.3   83088\n",
      "18              5.9   81363\n",
      "19              6.0   93940\n",
      "20              6.8   91738\n",
      "21              7.1   98273\n",
      "22              7.9  101302\n",
      "23              8.2  113812\n",
      "24              8.7  109431\n",
      "25              9.0  105582\n",
      "26              9.5  116969\n",
      "27              9.6  112635\n",
      "28             10.3  122391\n",
      "29             10.5  121872\n"
     ]
    }
   ],
   "source": [
    "print(df)"
   ]
  },
  {
   "cell_type": "code",
   "execution_count": 4,
   "id": "f497ae91",
   "metadata": {
    "execution": {
     "iopub.execute_input": "2024-09-11T15:59:56.283628Z",
     "iopub.status.busy": "2024-09-11T15:59:56.282477Z",
     "iopub.status.idle": "2024-09-11T15:59:56.291244Z",
     "shell.execute_reply": "2024-09-11T15:59:56.290203Z"
    },
    "papermill": {
     "duration": 0.017537,
     "end_time": "2024-09-11T15:59:56.293667",
     "exception": false,
     "start_time": "2024-09-11T15:59:56.276130",
     "status": "completed"
    },
    "tags": []
   },
   "outputs": [
    {
     "name": "stdout",
     "output_type": "stream",
     "text": [
      "<bound method DataFrame.info of     YearsExperience  Salary\n",
      "0               1.1   39343\n",
      "1               1.3   46205\n",
      "2               1.5   37731\n",
      "3               2.0   43525\n",
      "4               2.2   39891\n",
      "5               2.9   56642\n",
      "6               3.0   60150\n",
      "7               3.2   54445\n",
      "8               3.2   64445\n",
      "9               3.7   57189\n",
      "10              3.9   63218\n",
      "11              4.0   55794\n",
      "12              4.0   56957\n",
      "13              4.1   57081\n",
      "14              4.5   61111\n",
      "15              4.9   67938\n",
      "16              5.1   66029\n",
      "17              5.3   83088\n",
      "18              5.9   81363\n",
      "19              6.0   93940\n",
      "20              6.8   91738\n",
      "21              7.1   98273\n",
      "22              7.9  101302\n",
      "23              8.2  113812\n",
      "24              8.7  109431\n",
      "25              9.0  105582\n",
      "26              9.5  116969\n",
      "27              9.6  112635\n",
      "28             10.3  122391\n",
      "29             10.5  121872>\n"
     ]
    }
   ],
   "source": [
    "print(df.info)"
   ]
  },
  {
   "cell_type": "code",
   "execution_count": 5,
   "id": "b5652e62",
   "metadata": {
    "execution": {
     "iopub.execute_input": "2024-09-11T15:59:56.305833Z",
     "iopub.status.busy": "2024-09-11T15:59:56.305463Z",
     "iopub.status.idle": "2024-09-11T15:59:56.313966Z",
     "shell.execute_reply": "2024-09-11T15:59:56.312907Z"
    },
    "papermill": {
     "duration": 0.017099,
     "end_time": "2024-09-11T15:59:56.316126",
     "exception": false,
     "start_time": "2024-09-11T15:59:56.299027",
     "status": "completed"
    },
    "tags": []
   },
   "outputs": [],
   "source": [
    "x=df.iloc[:,:-1].values\n",
    "y=df.iloc[:,-1].values"
   ]
  },
  {
   "cell_type": "code",
   "execution_count": 6,
   "id": "07255fca",
   "metadata": {
    "execution": {
     "iopub.execute_input": "2024-09-11T15:59:56.328847Z",
     "iopub.status.busy": "2024-09-11T15:59:56.327926Z",
     "iopub.status.idle": "2024-09-11T15:59:56.337885Z",
     "shell.execute_reply": "2024-09-11T15:59:56.336814Z"
    },
    "papermill": {
     "duration": 0.018586,
     "end_time": "2024-09-11T15:59:56.340129",
     "exception": false,
     "start_time": "2024-09-11T15:59:56.321543",
     "status": "completed"
    },
    "tags": []
   },
   "outputs": [
    {
     "data": {
      "text/plain": [
       "array([[ 1.1],\n",
       "       [ 1.3],\n",
       "       [ 1.5],\n",
       "       [ 2. ],\n",
       "       [ 2.2],\n",
       "       [ 2.9],\n",
       "       [ 3. ],\n",
       "       [ 3.2],\n",
       "       [ 3.2],\n",
       "       [ 3.7],\n",
       "       [ 3.9],\n",
       "       [ 4. ],\n",
       "       [ 4. ],\n",
       "       [ 4.1],\n",
       "       [ 4.5],\n",
       "       [ 4.9],\n",
       "       [ 5.1],\n",
       "       [ 5.3],\n",
       "       [ 5.9],\n",
       "       [ 6. ],\n",
       "       [ 6.8],\n",
       "       [ 7.1],\n",
       "       [ 7.9],\n",
       "       [ 8.2],\n",
       "       [ 8.7],\n",
       "       [ 9. ],\n",
       "       [ 9.5],\n",
       "       [ 9.6],\n",
       "       [10.3],\n",
       "       [10.5]])"
      ]
     },
     "execution_count": 6,
     "metadata": {},
     "output_type": "execute_result"
    }
   ],
   "source": [
    "x"
   ]
  },
  {
   "cell_type": "code",
   "execution_count": 7,
   "id": "2494a0c7",
   "metadata": {
    "execution": {
     "iopub.execute_input": "2024-09-11T15:59:56.353031Z",
     "iopub.status.busy": "2024-09-11T15:59:56.352275Z",
     "iopub.status.idle": "2024-09-11T15:59:56.359558Z",
     "shell.execute_reply": "2024-09-11T15:59:56.358370Z"
    },
    "papermill": {
     "duration": 0.01637,
     "end_time": "2024-09-11T15:59:56.361888",
     "exception": false,
     "start_time": "2024-09-11T15:59:56.345518",
     "status": "completed"
    },
    "tags": []
   },
   "outputs": [
    {
     "data": {
      "text/plain": [
       "array([ 39343,  46205,  37731,  43525,  39891,  56642,  60150,  54445,\n",
       "        64445,  57189,  63218,  55794,  56957,  57081,  61111,  67938,\n",
       "        66029,  83088,  81363,  93940,  91738,  98273, 101302, 113812,\n",
       "       109431, 105582, 116969, 112635, 122391, 121872])"
      ]
     },
     "execution_count": 7,
     "metadata": {},
     "output_type": "execute_result"
    }
   ],
   "source": [
    "y"
   ]
  },
  {
   "cell_type": "code",
   "execution_count": 8,
   "id": "1f7dc28b",
   "metadata": {
    "execution": {
     "iopub.execute_input": "2024-09-11T15:59:56.374505Z",
     "iopub.status.busy": "2024-09-11T15:59:56.374092Z",
     "iopub.status.idle": "2024-09-11T15:59:57.788099Z",
     "shell.execute_reply": "2024-09-11T15:59:57.787127Z"
    },
    "papermill": {
     "duration": 1.423319,
     "end_time": "2024-09-11T15:59:57.790750",
     "exception": false,
     "start_time": "2024-09-11T15:59:56.367431",
     "status": "completed"
    },
    "tags": []
   },
   "outputs": [],
   "source": [
    "from sklearn.model_selection import train_test_split\n",
    "x_train,x_test,y_train,y_test=train_test_split(x,y,test_size=0.3,random_state=0)"
   ]
  },
  {
   "cell_type": "code",
   "execution_count": 9,
   "id": "e59915d8",
   "metadata": {
    "execution": {
     "iopub.execute_input": "2024-09-11T15:59:57.804493Z",
     "iopub.status.busy": "2024-09-11T15:59:57.803261Z",
     "iopub.status.idle": "2024-09-11T15:59:57.811310Z",
     "shell.execute_reply": "2024-09-11T15:59:57.810218Z"
    },
    "papermill": {
     "duration": 0.016956,
     "end_time": "2024-09-11T15:59:57.813466",
     "exception": false,
     "start_time": "2024-09-11T15:59:57.796510",
     "status": "completed"
    },
    "tags": []
   },
   "outputs": [
    {
     "data": {
      "text/plain": [
       "array([[ 7.9],\n",
       "       [ 2.9],\n",
       "       [ 5.1],\n",
       "       [ 3.2],\n",
       "       [ 4.5],\n",
       "       [ 8.2],\n",
       "       [ 6.8],\n",
       "       [ 1.3],\n",
       "       [10.5],\n",
       "       [ 3. ],\n",
       "       [ 2.2],\n",
       "       [ 5.9],\n",
       "       [ 6. ],\n",
       "       [ 3.7],\n",
       "       [ 3.2],\n",
       "       [ 9. ],\n",
       "       [ 2. ],\n",
       "       [ 1.1],\n",
       "       [ 7.1],\n",
       "       [ 4.9],\n",
       "       [ 4. ]])"
      ]
     },
     "execution_count": 9,
     "metadata": {},
     "output_type": "execute_result"
    }
   ],
   "source": [
    "x_train"
   ]
  },
  {
   "cell_type": "code",
   "execution_count": 10,
   "id": "387ba228",
   "metadata": {
    "execution": {
     "iopub.execute_input": "2024-09-11T15:59:57.826828Z",
     "iopub.status.busy": "2024-09-11T15:59:57.825845Z",
     "iopub.status.idle": "2024-09-11T15:59:57.833769Z",
     "shell.execute_reply": "2024-09-11T15:59:57.832633Z"
    },
    "papermill": {
     "duration": 0.016902,
     "end_time": "2024-09-11T15:59:57.835941",
     "exception": false,
     "start_time": "2024-09-11T15:59:57.819039",
     "status": "completed"
    },
    "tags": []
   },
   "outputs": [
    {
     "data": {
      "text/plain": [
       "array([[ 1.5],\n",
       "       [10.3],\n",
       "       [ 4.1],\n",
       "       [ 3.9],\n",
       "       [ 9.5],\n",
       "       [ 8.7],\n",
       "       [ 9.6],\n",
       "       [ 4. ],\n",
       "       [ 5.3]])"
      ]
     },
     "execution_count": 10,
     "metadata": {},
     "output_type": "execute_result"
    }
   ],
   "source": [
    "x_test"
   ]
  },
  {
   "cell_type": "code",
   "execution_count": 11,
   "id": "90d0dbb6",
   "metadata": {
    "execution": {
     "iopub.execute_input": "2024-09-11T15:59:57.849571Z",
     "iopub.status.busy": "2024-09-11T15:59:57.848687Z",
     "iopub.status.idle": "2024-09-11T15:59:57.855988Z",
     "shell.execute_reply": "2024-09-11T15:59:57.854894Z"
    },
    "papermill": {
     "duration": 0.016653,
     "end_time": "2024-09-11T15:59:57.858313",
     "exception": false,
     "start_time": "2024-09-11T15:59:57.841660",
     "status": "completed"
    },
    "tags": []
   },
   "outputs": [
    {
     "data": {
      "text/plain": [
       "array([101302,  56642,  66029,  64445,  61111, 113812,  91738,  46205,\n",
       "       121872,  60150,  39891,  81363,  93940,  57189,  54445, 105582,\n",
       "        43525,  39343,  98273,  67938,  56957])"
      ]
     },
     "execution_count": 11,
     "metadata": {},
     "output_type": "execute_result"
    }
   ],
   "source": [
    "y_train"
   ]
  },
  {
   "cell_type": "code",
   "execution_count": 12,
   "id": "18cfa403",
   "metadata": {
    "execution": {
     "iopub.execute_input": "2024-09-11T15:59:57.872590Z",
     "iopub.status.busy": "2024-09-11T15:59:57.872048Z",
     "iopub.status.idle": "2024-09-11T15:59:57.880844Z",
     "shell.execute_reply": "2024-09-11T15:59:57.879752Z"
    },
    "papermill": {
     "duration": 0.018816,
     "end_time": "2024-09-11T15:59:57.883147",
     "exception": false,
     "start_time": "2024-09-11T15:59:57.864331",
     "status": "completed"
    },
    "tags": []
   },
   "outputs": [
    {
     "data": {
      "text/plain": [
       "array([ 37731, 122391,  57081,  63218, 116969, 109431, 112635,  55794,\n",
       "        83088])"
      ]
     },
     "execution_count": 12,
     "metadata": {},
     "output_type": "execute_result"
    }
   ],
   "source": [
    "y_test"
   ]
  },
  {
   "cell_type": "code",
   "execution_count": 13,
   "id": "76d1bf8e",
   "metadata": {
    "execution": {
     "iopub.execute_input": "2024-09-11T15:59:57.897428Z",
     "iopub.status.busy": "2024-09-11T15:59:57.896436Z",
     "iopub.status.idle": "2024-09-11T15:59:58.092610Z",
     "shell.execute_reply": "2024-09-11T15:59:58.091352Z"
    },
    "papermill": {
     "duration": 0.205761,
     "end_time": "2024-09-11T15:59:58.094967",
     "exception": false,
     "start_time": "2024-09-11T15:59:57.889206",
     "status": "completed"
    },
    "tags": []
   },
   "outputs": [
    {
     "data": {
      "text/html": [
       "<style>#sk-container-id-1 {color: black;background-color: white;}#sk-container-id-1 pre{padding: 0;}#sk-container-id-1 div.sk-toggleable {background-color: white;}#sk-container-id-1 label.sk-toggleable__label {cursor: pointer;display: block;width: 100%;margin-bottom: 0;padding: 0.3em;box-sizing: border-box;text-align: center;}#sk-container-id-1 label.sk-toggleable__label-arrow:before {content: \"▸\";float: left;margin-right: 0.25em;color: #696969;}#sk-container-id-1 label.sk-toggleable__label-arrow:hover:before {color: black;}#sk-container-id-1 div.sk-estimator:hover label.sk-toggleable__label-arrow:before {color: black;}#sk-container-id-1 div.sk-toggleable__content {max-height: 0;max-width: 0;overflow: hidden;text-align: left;background-color: #f0f8ff;}#sk-container-id-1 div.sk-toggleable__content pre {margin: 0.2em;color: black;border-radius: 0.25em;background-color: #f0f8ff;}#sk-container-id-1 input.sk-toggleable__control:checked~div.sk-toggleable__content {max-height: 200px;max-width: 100%;overflow: auto;}#sk-container-id-1 input.sk-toggleable__control:checked~label.sk-toggleable__label-arrow:before {content: \"▾\";}#sk-container-id-1 div.sk-estimator input.sk-toggleable__control:checked~label.sk-toggleable__label {background-color: #d4ebff;}#sk-container-id-1 div.sk-label input.sk-toggleable__control:checked~label.sk-toggleable__label {background-color: #d4ebff;}#sk-container-id-1 input.sk-hidden--visually {border: 0;clip: rect(1px 1px 1px 1px);clip: rect(1px, 1px, 1px, 1px);height: 1px;margin: -1px;overflow: hidden;padding: 0;position: absolute;width: 1px;}#sk-container-id-1 div.sk-estimator {font-family: monospace;background-color: #f0f8ff;border: 1px dotted black;border-radius: 0.25em;box-sizing: border-box;margin-bottom: 0.5em;}#sk-container-id-1 div.sk-estimator:hover {background-color: #d4ebff;}#sk-container-id-1 div.sk-parallel-item::after {content: \"\";width: 100%;border-bottom: 1px solid gray;flex-grow: 1;}#sk-container-id-1 div.sk-label:hover label.sk-toggleable__label {background-color: #d4ebff;}#sk-container-id-1 div.sk-serial::before {content: \"\";position: absolute;border-left: 1px solid gray;box-sizing: border-box;top: 0;bottom: 0;left: 50%;z-index: 0;}#sk-container-id-1 div.sk-serial {display: flex;flex-direction: column;align-items: center;background-color: white;padding-right: 0.2em;padding-left: 0.2em;position: relative;}#sk-container-id-1 div.sk-item {position: relative;z-index: 1;}#sk-container-id-1 div.sk-parallel {display: flex;align-items: stretch;justify-content: center;background-color: white;position: relative;}#sk-container-id-1 div.sk-item::before, #sk-container-id-1 div.sk-parallel-item::before {content: \"\";position: absolute;border-left: 1px solid gray;box-sizing: border-box;top: 0;bottom: 0;left: 50%;z-index: -1;}#sk-container-id-1 div.sk-parallel-item {display: flex;flex-direction: column;z-index: 1;position: relative;background-color: white;}#sk-container-id-1 div.sk-parallel-item:first-child::after {align-self: flex-end;width: 50%;}#sk-container-id-1 div.sk-parallel-item:last-child::after {align-self: flex-start;width: 50%;}#sk-container-id-1 div.sk-parallel-item:only-child::after {width: 0;}#sk-container-id-1 div.sk-dashed-wrapped {border: 1px dashed gray;margin: 0 0.4em 0.5em 0.4em;box-sizing: border-box;padding-bottom: 0.4em;background-color: white;}#sk-container-id-1 div.sk-label label {font-family: monospace;font-weight: bold;display: inline-block;line-height: 1.2em;}#sk-container-id-1 div.sk-label-container {text-align: center;}#sk-container-id-1 div.sk-container {/* jupyter's `normalize.less` sets `[hidden] { display: none; }` but bootstrap.min.css set `[hidden] { display: none !important; }` so we also need the `!important` here to be able to override the default hidden behavior on the sphinx rendered scikit-learn.org. See: https://github.com/scikit-learn/scikit-learn/issues/21755 */display: inline-block !important;position: relative;}#sk-container-id-1 div.sk-text-repr-fallback {display: none;}</style><div id=\"sk-container-id-1\" class=\"sk-top-container\"><div class=\"sk-text-repr-fallback\"><pre>LinearRegression()</pre><b>In a Jupyter environment, please rerun this cell to show the HTML representation or trust the notebook. <br />On GitHub, the HTML representation is unable to render, please try loading this page with nbviewer.org.</b></div><div class=\"sk-container\" hidden><div class=\"sk-item\"><div class=\"sk-estimator sk-toggleable\"><input class=\"sk-toggleable__control sk-hidden--visually\" id=\"sk-estimator-id-1\" type=\"checkbox\" checked><label for=\"sk-estimator-id-1\" class=\"sk-toggleable__label sk-toggleable__label-arrow\">LinearRegression</label><div class=\"sk-toggleable__content\"><pre>LinearRegression()</pre></div></div></div></div></div>"
      ],
      "text/plain": [
       "LinearRegression()"
      ]
     },
     "execution_count": 13,
     "metadata": {},
     "output_type": "execute_result"
    }
   ],
   "source": [
    "from sklearn.linear_model import LinearRegression\n",
    "reg=LinearRegression()\n",
    "reg.fit(x_train,y_train)"
   ]
  },
  {
   "cell_type": "code",
   "execution_count": 14,
   "id": "73979a7f",
   "metadata": {
    "execution": {
     "iopub.execute_input": "2024-09-11T15:59:58.109544Z",
     "iopub.status.busy": "2024-09-11T15:59:58.108748Z",
     "iopub.status.idle": "2024-09-11T15:59:58.114169Z",
     "shell.execute_reply": "2024-09-11T15:59:58.113050Z"
    },
    "papermill": {
     "duration": 0.015323,
     "end_time": "2024-09-11T15:59:58.116571",
     "exception": false,
     "start_time": "2024-09-11T15:59:58.101248",
     "status": "completed"
    },
    "tags": []
   },
   "outputs": [],
   "source": [
    "y_pred=reg.predict(x_test)"
   ]
  },
  {
   "cell_type": "code",
   "execution_count": 15,
   "id": "2be827e3",
   "metadata": {
    "execution": {
     "iopub.execute_input": "2024-09-11T15:59:58.131359Z",
     "iopub.status.busy": "2024-09-11T15:59:58.130221Z",
     "iopub.status.idle": "2024-09-11T15:59:58.137759Z",
     "shell.execute_reply": "2024-09-11T15:59:58.136539Z"
    },
    "papermill": {
     "duration": 0.017167,
     "end_time": "2024-09-11T15:59:58.139941",
     "exception": false,
     "start_time": "2024-09-11T15:59:58.122774",
     "status": "completed"
    },
    "tags": []
   },
   "outputs": [
    {
     "data": {
      "text/plain": [
       "array([ 40817.78327049, 123188.08258899,  65154.46261459,  63282.41035735,\n",
       "       115699.87356004, 108211.66453108, 116635.89968866,  64218.43648597,\n",
       "        76386.77615802])"
      ]
     },
     "execution_count": 15,
     "metadata": {},
     "output_type": "execute_result"
    }
   ],
   "source": [
    "y_pred"
   ]
  },
  {
   "cell_type": "code",
   "execution_count": 16,
   "id": "fbdce556",
   "metadata": {
    "execution": {
     "iopub.execute_input": "2024-09-11T15:59:58.154566Z",
     "iopub.status.busy": "2024-09-11T15:59:58.153751Z",
     "iopub.status.idle": "2024-09-11T15:59:58.438299Z",
     "shell.execute_reply": "2024-09-11T15:59:58.437247Z"
    },
    "papermill": {
     "duration": 0.294524,
     "end_time": "2024-09-11T15:59:58.440767",
     "exception": false,
     "start_time": "2024-09-11T15:59:58.146243",
     "status": "completed"
    },
    "tags": []
   },
   "outputs": [
    {
     "data": {
      "image/png": "[encoded data removed]",
      "text/plain": [
       "<Figure size 640x480 with 1 Axes>"
      ]
     },
     "metadata": {},
     "output_type": "display_data"
    }
   ],
   "source": [
    "plt.scatter(x_train,y_train,color=\"red\")\n",
    "plt.plot(x_train,reg.predict(x_train),color=\"blue\")\n",
    "plt.title(\"Salary VS EXP (train)\")\n",
    "plt.ylabel(\"Salary\")\n",
    "plt.xlabel(\"Year of Exp\")\n",
    "plt.show()"
   ]
  },
  {
   "cell_type": "code",
   "execution_count": 17,
   "id": "59525fad",
   "metadata": {
    "execution": {
     "iopub.execute_input": "2024-09-11T15:59:58.456454Z",
     "iopub.status.busy": "2024-09-11T15:59:58.456028Z",
     "iopub.status.idle": "2024-09-11T15:59:58.700440Z",
     "shell.execute_reply": "2024-09-11T15:59:58.699039Z"
    },
    "papermill": {
     "duration": 0.255223,
     "end_time": "2024-09-11T15:59:58.702974",
     "exception": false,
     "start_time": "2024-09-11T15:59:58.447751",
     "status": "completed"
    },
    "tags": []
   },
   "outputs": [
    {
     "data": {
      "image/png": "[encoded data removed]",
      "text/plain": [
       "<Figure size 640x480 with 1 Axes>"
      ]
     },
     "metadata": {},
     "output_type": "display_data"
    }
   ],
   "source": [
    "plt.scatter(x_test,y_test,color=\"red\")\n",
    "plt.plot(x_train,reg.predict(x_train),color=\"blue\")\n",
    "plt.title(\"Salary VS EXP (train)\")\n",
    "plt.ylabel(\"Salary\")\n",
    "plt.xlabel(\"Year of Exp\")\n",
    "plt.show()"
   ]
  },
  {
   "cell_type": "code",
   "execution_count": 18,
   "id": "d44ba90a",
   "metadata": {
    "execution": {
     "iopub.execute_input": "2024-09-11T15:59:58.720069Z",
     "iopub.status.busy": "2024-09-11T15:59:58.719618Z",
     "iopub.status.idle": "2024-09-11T15:59:58.725882Z",
     "shell.execute_reply": "2024-09-11T15:59:58.724782Z"
    },
    "papermill": {
     "duration": 0.018696,
     "end_time": "2024-09-11T15:59:58.729112",
     "exception": false,
     "start_time": "2024-09-11T15:59:58.710416",
     "status": "completed"
    },
    "tags": []
   },
   "outputs": [
    {
     "name": "stdout",
     "output_type": "stream",
     "text": [
      "[139100.52677552]\n"
     ]
    }
   ],
   "source": [
    "print(reg.predict([[12]]))"
   ]
  },
  {
   "cell_type": "code",
   "execution_count": 19,
   "id": "e66c88af",
   "metadata": {
    "execution": {
     "iopub.execute_input": "2024-09-11T15:59:58.746424Z",
     "iopub.status.busy": "2024-09-11T15:59:58.745508Z",
     "iopub.status.idle": "2024-09-11T15:59:58.751412Z",
     "shell.execute_reply": "2024-09-11T15:59:58.750317Z"
    },
    "papermill": {
     "duration": 0.017346,
     "end_time": "2024-09-11T15:59:58.753884",
     "exception": false,
     "start_time": "2024-09-11T15:59:58.736538",
     "status": "completed"
    },
    "tags": []
   },
   "outputs": [
    {
     "name": "stdout",
     "output_type": "stream",
     "text": [
      "[9360.26128619]\n",
      "26777.391341197625\n"
     ]
    }
   ],
   "source": [
    "print(reg.coef_)\n",
    "print(reg.intercept_)"
   ]
  },
  {
   "cell_type": "code",
   "execution_count": 20,
   "id": "a9f0f5bf",
   "metadata": {
    "execution": {
     "iopub.execute_input": "2024-09-11T15:59:58.770783Z",
     "iopub.status.busy": "2024-09-11T15:59:58.769753Z",
     "iopub.status.idle": "2024-09-11T15:59:58.774435Z",
     "shell.execute_reply": "2024-09-11T15:59:58.773429Z"
    },
    "papermill": {
     "duration": 0.015248,
     "end_time": "2024-09-11T15:59:58.776452",
     "exception": false,
     "start_time": "2024-09-11T15:59:58.761204",
     "status": "completed"
    },
    "tags": []
   },
   "outputs": [],
   "source": [
    "#the equation of our simple linear regression model is:\n",
    "#     Salary=9345.94×YearsExperience+26816.19"
   ]
  }
 ],
 "metadata": {
  "kaggle": {
   "accelerator": "none",
   "dataSources": [
    {
     "datasetId": 1171594,
     "sourceId": 1962459,
     "sourceType": "datasetVersion"
    }
   ],
   "dockerImageVersionId": 30761,
   "isGpuEnabled": false,
   "isInternetEnabled": true,
   "language": "python",
   "sourceType": "notebook"
  },
  "kernelspec": {
   "display_name": "Python 3",
   "language": "python",
   "name": "python3"
  },
  "language_info": {
   "codemirror_mode": {
    "name": "ipython",
    "version": 3
   },
   "file_extension": ".py",
   "mimetype": "text/x-python",
   "name": "python",
   "nbconvert_exporter": "python",
   "pygments_lexer": "ipython3",
   "version": "3.10.14"
  },
  "papermill": {
   "default_parameters": {},
   "duration": 6.425314,
   "end_time": "2024-09-11T15:59:59.404950",
   "environment_variables": {},
   "exception": null,
   "input_path": "__notebook__.ipynb",
   "output_path": "__notebook__.ipynb",
   "parameters": {},
   "start_time": "2024-09-11T15:59:52.979636",
   "version": "2.6.0"
  }
 },
 "nbformat": 4,
 "nbformat_minor": 5
}
