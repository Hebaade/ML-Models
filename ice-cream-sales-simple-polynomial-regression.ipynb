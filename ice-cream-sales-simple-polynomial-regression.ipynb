{
 "cells": [
  {
   "cell_type": "code",
   "execution_count": 1,
   "id": "9d273bfc",
   "metadata": {
    "execution": {
     "iopub.execute_input": "2024-09-12T08:34:36.333806Z",
     "iopub.status.busy": "2024-09-12T08:34:36.333240Z",
     "iopub.status.idle": "2024-09-12T08:34:36.789105Z",
     "shell.execute_reply": "2024-09-12T08:34:36.787984Z"
    },
    "papermill": {
     "duration": 0.466597,
     "end_time": "2024-09-12T08:34:36.792155",
     "exception": false,
     "start_time": "2024-09-12T08:34:36.325558",
     "status": "completed"
    },
    "tags": []
   },
   "outputs": [],
   "source": [
    "import numpy as np\n",
    "import pandas as pd\n",
    "import matplotlib.pyplot as plt"
   ]
  },
  {
   "cell_type": "code",
   "execution_count": 2,
   "id": "111afb73",
   "metadata": {
    "execution": {
     "iopub.execute_input": "2024-09-12T08:34:36.805014Z",
     "iopub.status.busy": "2024-09-12T08:34:36.804427Z",
     "iopub.status.idle": "2024-09-12T08:34:36.827763Z",
     "shell.execute_reply": "2024-09-12T08:34:36.826283Z"
    },
    "papermill": {
     "duration": 0.033319,
     "end_time": "2024-09-12T08:34:36.830997",
     "exception": false,
     "start_time": "2024-09-12T08:34:36.797678",
     "status": "completed"
    },
    "tags": []
   },
   "outputs": [],
   "source": [
    "df= pd.read_csv('/kaggle/input/polynomial-regression/Ice_cream selling data.csv')"
   ]
  },
  {
   "cell_type": "code",
   "execution_count": 3,
   "id": "d933480b",
   "metadata": {
    "execution": {
     "iopub.execute_input": "2024-09-12T08:34:36.843596Z",
     "iopub.status.busy": "2024-09-12T08:34:36.843104Z",
     "iopub.status.idle": "2024-09-12T08:34:36.867558Z",
     "shell.execute_reply": "2024-09-12T08:34:36.866267Z"
    },
    "papermill": {
     "duration": 0.033943,
     "end_time": "2024-09-12T08:34:36.870410",
     "exception": false,
     "start_time": "2024-09-12T08:34:36.836467",
     "status": "completed"
    },
    "tags": []
   },
   "outputs": [
    {
     "data": {
      "text/html": [
       "<div>\n",
       "<style scoped>\n",
       "    .dataframe tbody tr th:only-of-type {\n",
       "        vertical-align: middle;\n",
       "    }\n",
       "\n",
       "    .dataframe tbody tr th {\n",
       "        vertical-align: top;\n",
       "    }\n",
       "\n",
       "    .dataframe thead th {\n",
       "        text-align: right;\n",
       "    }\n",
       "</style>\n",
       "<table border=\"1\" class=\"dataframe\">\n",
       "  <thead>\n",
       "    <tr style=\"text-align: right;\">\n",
       "      <th></th>\n",
       "      <th>Temperature (°C)</th>\n",
       "      <th>Ice Cream Sales (units)</th>\n",
       "    </tr>\n",
       "  </thead>\n",
       "  <tbody>\n",
       "    <tr>\n",
       "      <th>0</th>\n",
       "      <td>-4.662263</td>\n",
       "      <td>41.842986</td>\n",
       "    </tr>\n",
       "    <tr>\n",
       "      <th>1</th>\n",
       "      <td>-4.316559</td>\n",
       "      <td>34.661120</td>\n",
       "    </tr>\n",
       "    <tr>\n",
       "      <th>2</th>\n",
       "      <td>-4.213985</td>\n",
       "      <td>39.383001</td>\n",
       "    </tr>\n",
       "    <tr>\n",
       "      <th>3</th>\n",
       "      <td>-3.949661</td>\n",
       "      <td>37.539845</td>\n",
       "    </tr>\n",
       "    <tr>\n",
       "      <th>4</th>\n",
       "      <td>-3.578554</td>\n",
       "      <td>32.284531</td>\n",
       "    </tr>\n",
       "  </tbody>\n",
       "</table>\n",
       "</div>"
      ],
      "text/plain": [
       "   Temperature (°C)  Ice Cream Sales (units)\n",
       "0         -4.662263                41.842986\n",
       "1         -4.316559                34.661120\n",
       "2         -4.213985                39.383001\n",
       "3         -3.949661                37.539845\n",
       "4         -3.578554                32.284531"
      ]
     },
     "execution_count": 3,
     "metadata": {},
     "output_type": "execute_result"
    }
   ],
   "source": [
    "df.head()"
   ]
  },
  {
   "cell_type": "code",
   "execution_count": 4,
   "id": "6990e56f",
   "metadata": {
    "execution": {
     "iopub.execute_input": "2024-09-12T08:34:36.883238Z",
     "iopub.status.busy": "2024-09-12T08:34:36.882764Z",
     "iopub.status.idle": "2024-09-12T08:34:36.893595Z",
     "shell.execute_reply": "2024-09-12T08:34:36.892307Z"
    },
    "papermill": {
     "duration": 0.020122,
     "end_time": "2024-09-12T08:34:36.896102",
     "exception": false,
     "start_time": "2024-09-12T08:34:36.875980",
     "status": "completed"
    },
    "tags": []
   },
   "outputs": [
    {
     "data": {
      "text/plain": [
       "Temperature (°C)           0\n",
       "Ice Cream Sales (units)    0\n",
       "dtype: int64"
      ]
     },
     "execution_count": 4,
     "metadata": {},
     "output_type": "execute_result"
    }
   ],
   "source": [
    "df.isnull().sum()"
   ]
  },
  {
   "cell_type": "code",
   "execution_count": 5,
   "id": "85557dcb",
   "metadata": {
    "execution": {
     "iopub.execute_input": "2024-09-12T08:34:36.909737Z",
     "iopub.status.busy": "2024-09-12T08:34:36.909310Z",
     "iopub.status.idle": "2024-09-12T08:34:36.917480Z",
     "shell.execute_reply": "2024-09-12T08:34:36.915955Z"
    },
    "papermill": {
     "duration": 0.017828,
     "end_time": "2024-09-12T08:34:36.920064",
     "exception": false,
     "start_time": "2024-09-12T08:34:36.902236",
     "status": "completed"
    },
    "tags": []
   },
   "outputs": [],
   "source": [
    "x=df.iloc[:,:-1].values\n",
    "y=df.iloc[:,-1].values"
   ]
  },
  {
   "cell_type": "code",
   "execution_count": 6,
   "id": "c184660b",
   "metadata": {
    "execution": {
     "iopub.execute_input": "2024-09-12T08:34:36.933477Z",
     "iopub.status.busy": "2024-09-12T08:34:36.932878Z",
     "iopub.status.idle": "2024-09-12T08:34:36.942764Z",
     "shell.execute_reply": "2024-09-12T08:34:36.941636Z"
    },
    "papermill": {
     "duration": 0.019624,
     "end_time": "2024-09-12T08:34:36.945500",
     "exception": false,
     "start_time": "2024-09-12T08:34:36.925876",
     "status": "completed"
    },
    "tags": []
   },
   "outputs": [
    {
     "data": {
      "text/plain": [
       "array([[-4.66226268],\n",
       "       [-4.31655945],\n",
       "       [-4.21398476],\n",
       "       [-3.94966109],\n",
       "       [-3.57855372],\n",
       "       [-3.4557117 ],\n",
       "       [-3.10844012],\n",
       "       [-3.08130332],\n",
       "       [-2.67246083],\n",
       "       [-2.65228679],\n",
       "       [-2.65149803],\n",
       "       [-2.288264  ],\n",
       "       [-2.11186969],\n",
       "       [-1.81893761],\n",
       "       [-1.66034773],\n",
       "       [-1.32637898],\n",
       "       [-1.17312327],\n",
       "       [-0.77333004],\n",
       "       [-0.6737528 ],\n",
       "       [-0.14963487],\n",
       "       [-0.0361565 ],\n",
       "       [-0.03389529],\n",
       "       [ 0.0086077 ],\n",
       "       [ 0.14924457],\n",
       "       [ 0.68878091],\n",
       "       [ 0.69359887],\n",
       "       [ 0.87490503],\n",
       "       [ 1.02418081],\n",
       "       [ 1.24071162],\n",
       "       [ 1.35981267],\n",
       "       [ 1.74000001],\n",
       "       [ 1.85055193],\n",
       "       [ 1.99931037],\n",
       "       [ 2.0751006 ],\n",
       "       [ 2.31859124],\n",
       "       [ 2.471946  ],\n",
       "       [ 2.78483646],\n",
       "       [ 2.83176021],\n",
       "       [ 2.95993209],\n",
       "       [ 3.02087431],\n",
       "       [ 3.21136614],\n",
       "       [ 3.27004407],\n",
       "       [ 3.31607252],\n",
       "       [ 3.33593241],\n",
       "       [ 3.61077848],\n",
       "       [ 3.70405744],\n",
       "       [ 4.13086796],\n",
       "       [ 4.13353379],\n",
       "       [ 4.89903151]])"
      ]
     },
     "execution_count": 6,
     "metadata": {},
     "output_type": "execute_result"
    }
   ],
   "source": [
    "x"
   ]
  },
  {
   "cell_type": "code",
   "execution_count": 7,
   "id": "f0c0be83",
   "metadata": {
    "execution": {
     "iopub.execute_input": "2024-09-12T08:34:36.959808Z",
     "iopub.status.busy": "2024-09-12T08:34:36.958670Z",
     "iopub.status.idle": "2024-09-12T08:34:36.966931Z",
     "shell.execute_reply": "2024-09-12T08:34:36.965796Z"
    },
    "papermill": {
     "duration": 0.018308,
     "end_time": "2024-09-12T08:34:36.969732",
     "exception": false,
     "start_time": "2024-09-12T08:34:36.951424",
     "status": "completed"
    },
    "tags": []
   },
   "outputs": [
    {
     "data": {
      "text/plain": [
       "array([41.84298632, 34.66111954, 39.38300088, 37.53984488, 32.28453119,\n",
       "       30.00113848, 22.63540128, 25.36502221, 19.22697005, 20.27967918,\n",
       "       13.2758285 , 18.12399121, 11.21829447, 10.01286785, 12.61518115,\n",
       "       10.95773134,  6.68912264,  9.39296866,  5.21016262,  4.67364254,\n",
       "        0.32862552,  0.89760319,  3.16560001,  1.93141603,  2.57678224,\n",
       "        4.62568946,  0.78997365,  2.31380636,  1.29236081,  0.95311531,\n",
       "        3.78257014,  4.8579878 ,  8.94382321,  8.17073494,  7.41209403,\n",
       "       10.33663062, 15.99661997, 12.56823739, 21.34291574, 20.11441346,\n",
       "       22.8394055 , 16.98327874, 25.14208223, 26.10474041, 28.91218793,\n",
       "       17.84395652, 34.53074274, 27.69838335, 41.51482194])"
      ]
     },
     "execution_count": 7,
     "metadata": {},
     "output_type": "execute_result"
    }
   ],
   "source": [
    "y"
   ]
  },
  {
   "cell_type": "code",
   "execution_count": 8,
   "id": "c0129443",
   "metadata": {
    "execution": {
     "iopub.execute_input": "2024-09-12T08:34:36.984210Z",
     "iopub.status.busy": "2024-09-12T08:34:36.983127Z",
     "iopub.status.idle": "2024-09-12T08:34:38.604620Z",
     "shell.execute_reply": "2024-09-12T08:34:38.603218Z"
    },
    "papermill": {
     "duration": 1.631647,
     "end_time": "2024-09-12T08:34:38.607433",
     "exception": false,
     "start_time": "2024-09-12T08:34:36.975786",
     "status": "completed"
    },
    "tags": []
   },
   "outputs": [
    {
     "data": {
      "text/html": [
       "<style>#sk-container-id-1 {color: black;background-color: white;}#sk-container-id-1 pre{padding: 0;}#sk-container-id-1 div.sk-toggleable {background-color: white;}#sk-container-id-1 label.sk-toggleable__label {cursor: pointer;display: block;width: 100%;margin-bottom: 0;padding: 0.3em;box-sizing: border-box;text-align: center;}#sk-container-id-1 label.sk-toggleable__label-arrow:before {content: \"▸\";float: left;margin-right: 0.25em;color: #696969;}#sk-container-id-1 label.sk-toggleable__label-arrow:hover:before {color: black;}#sk-container-id-1 div.sk-estimator:hover label.sk-toggleable__label-arrow:before {color: black;}#sk-container-id-1 div.sk-toggleable__content {max-height: 0;max-width: 0;overflow: hidden;text-align: left;background-color: #f0f8ff;}#sk-container-id-1 div.sk-toggleable__content pre {margin: 0.2em;color: black;border-radius: 0.25em;background-color: #f0f8ff;}#sk-container-id-1 input.sk-toggleable__control:checked~div.sk-toggleable__content {max-height: 200px;max-width: 100%;overflow: auto;}#sk-container-id-1 input.sk-toggleable__control:checked~label.sk-toggleable__label-arrow:before {content: \"▾\";}#sk-container-id-1 div.sk-estimator input.sk-toggleable__control:checked~label.sk-toggleable__label {background-color: #d4ebff;}#sk-container-id-1 div.sk-label input.sk-toggleable__control:checked~label.sk-toggleable__label {background-color: #d4ebff;}#sk-container-id-1 input.sk-hidden--visually {border: 0;clip: rect(1px 1px 1px 1px);clip: rect(1px, 1px, 1px, 1px);height: 1px;margin: -1px;overflow: hidden;padding: 0;position: absolute;width: 1px;}#sk-container-id-1 div.sk-estimator {font-family: monospace;background-color: #f0f8ff;border: 1px dotted black;border-radius: 0.25em;box-sizing: border-box;margin-bottom: 0.5em;}#sk-container-id-1 div.sk-estimator:hover {background-color: #d4ebff;}#sk-container-id-1 div.sk-parallel-item::after {content: \"\";width: 100%;border-bottom: 1px solid gray;flex-grow: 1;}#sk-container-id-1 div.sk-label:hover label.sk-toggleable__label {background-color: #d4ebff;}#sk-container-id-1 div.sk-serial::before {content: \"\";position: absolute;border-left: 1px solid gray;box-sizing: border-box;top: 0;bottom: 0;left: 50%;z-index: 0;}#sk-container-id-1 div.sk-serial {display: flex;flex-direction: column;align-items: center;background-color: white;padding-right: 0.2em;padding-left: 0.2em;position: relative;}#sk-container-id-1 div.sk-item {position: relative;z-index: 1;}#sk-container-id-1 div.sk-parallel {display: flex;align-items: stretch;justify-content: center;background-color: white;position: relative;}#sk-container-id-1 div.sk-item::before, #sk-container-id-1 div.sk-parallel-item::before {content: \"\";position: absolute;border-left: 1px solid gray;box-sizing: border-box;top: 0;bottom: 0;left: 50%;z-index: -1;}#sk-container-id-1 div.sk-parallel-item {display: flex;flex-direction: column;z-index: 1;position: relative;background-color: white;}#sk-container-id-1 div.sk-parallel-item:first-child::after {align-self: flex-end;width: 50%;}#sk-container-id-1 div.sk-parallel-item:last-child::after {align-self: flex-start;width: 50%;}#sk-container-id-1 div.sk-parallel-item:only-child::after {width: 0;}#sk-container-id-1 div.sk-dashed-wrapped {border: 1px dashed gray;margin: 0 0.4em 0.5em 0.4em;box-sizing: border-box;padding-bottom: 0.4em;background-color: white;}#sk-container-id-1 div.sk-label label {font-family: monospace;font-weight: bold;display: inline-block;line-height: 1.2em;}#sk-container-id-1 div.sk-label-container {text-align: center;}#sk-container-id-1 div.sk-container {/* jupyter's `normalize.less` sets `[hidden] { display: none; }` but bootstrap.min.css set `[hidden] { display: none !important; }` so we also need the `!important` here to be able to override the default hidden behavior on the sphinx rendered scikit-learn.org. See: https://github.com/scikit-learn/scikit-learn/issues/21755 */display: inline-block !important;position: relative;}#sk-container-id-1 div.sk-text-repr-fallback {display: none;}</style><div id=\"sk-container-id-1\" class=\"sk-top-container\"><div class=\"sk-text-repr-fallback\"><pre>LinearRegression()</pre><b>In a Jupyter environment, please rerun this cell to show the HTML representation or trust the notebook. <br />On GitHub, the HTML representation is unable to render, please try loading this page with nbviewer.org.</b></div><div class=\"sk-container\" hidden><div class=\"sk-item\"><div class=\"sk-estimator sk-toggleable\"><input class=\"sk-toggleable__control sk-hidden--visually\" id=\"sk-estimator-id-1\" type=\"checkbox\" checked><label for=\"sk-estimator-id-1\" class=\"sk-toggleable__label sk-toggleable__label-arrow\">LinearRegression</label><div class=\"sk-toggleable__content\"><pre>LinearRegression()</pre></div></div></div></div></div>"
      ],
      "text/plain": [
       "LinearRegression()"
      ]
     },
     "execution_count": 8,
     "metadata": {},
     "output_type": "execute_result"
    }
   ],
   "source": [
    "from sklearn.linear_model import LinearRegression\n",
    "lin_reg=LinearRegression()\n",
    "lin_reg.fit(x,y)"
   ]
  },
  {
   "cell_type": "code",
   "execution_count": 9,
   "id": "7619e11b",
   "metadata": {
    "execution": {
     "iopub.execute_input": "2024-09-12T08:34:38.622316Z",
     "iopub.status.busy": "2024-09-12T08:34:38.621676Z",
     "iopub.status.idle": "2024-09-12T08:34:38.630437Z",
     "shell.execute_reply": "2024-09-12T08:34:38.629249Z"
    },
    "papermill": {
     "duration": 0.019279,
     "end_time": "2024-09-12T08:34:38.633053",
     "exception": false,
     "start_time": "2024-09-12T08:34:38.613774",
     "status": "completed"
    },
    "tags": []
   },
   "outputs": [
    {
     "data": {
      "text/plain": [
       "array([19.30757783])"
      ]
     },
     "execution_count": 9,
     "metadata": {},
     "output_type": "execute_result"
    }
   ],
   "source": [
    "lin_reg.predict([[-4]])"
   ]
  },
  {
   "cell_type": "code",
   "execution_count": 10,
   "id": "77edcb17",
   "metadata": {
    "execution": {
     "iopub.execute_input": "2024-09-12T08:34:38.648069Z",
     "iopub.status.busy": "2024-09-12T08:34:38.647608Z",
     "iopub.status.idle": "2024-09-12T08:34:38.668430Z",
     "shell.execute_reply": "2024-09-12T08:34:38.667198Z"
    },
    "papermill": {
     "duration": 0.031638,
     "end_time": "2024-09-12T08:34:38.671306",
     "exception": false,
     "start_time": "2024-09-12T08:34:38.639668",
     "status": "completed"
    },
    "tags": []
   },
   "outputs": [
    {
     "data": {
      "text/html": [
       "<style>#sk-container-id-2 {color: black;background-color: white;}#sk-container-id-2 pre{padding: 0;}#sk-container-id-2 div.sk-toggleable {background-color: white;}#sk-container-id-2 label.sk-toggleable__label {cursor: pointer;display: block;width: 100%;margin-bottom: 0;padding: 0.3em;box-sizing: border-box;text-align: center;}#sk-container-id-2 label.sk-toggleable__label-arrow:before {content: \"▸\";float: left;margin-right: 0.25em;color: #696969;}#sk-container-id-2 label.sk-toggleable__label-arrow:hover:before {color: black;}#sk-container-id-2 div.sk-estimator:hover label.sk-toggleable__label-arrow:before {color: black;}#sk-container-id-2 div.sk-toggleable__content {max-height: 0;max-width: 0;overflow: hidden;text-align: left;background-color: #f0f8ff;}#sk-container-id-2 div.sk-toggleable__content pre {margin: 0.2em;color: black;border-radius: 0.25em;background-color: #f0f8ff;}#sk-container-id-2 input.sk-toggleable__control:checked~div.sk-toggleable__content {max-height: 200px;max-width: 100%;overflow: auto;}#sk-container-id-2 input.sk-toggleable__control:checked~label.sk-toggleable__label-arrow:before {content: \"▾\";}#sk-container-id-2 div.sk-estimator input.sk-toggleable__control:checked~label.sk-toggleable__label {background-color: #d4ebff;}#sk-container-id-2 div.sk-label input.sk-toggleable__control:checked~label.sk-toggleable__label {background-color: #d4ebff;}#sk-container-id-2 input.sk-hidden--visually {border: 0;clip: rect(1px 1px 1px 1px);clip: rect(1px, 1px, 1px, 1px);height: 1px;margin: -1px;overflow: hidden;padding: 0;position: absolute;width: 1px;}#sk-container-id-2 div.sk-estimator {font-family: monospace;background-color: #f0f8ff;border: 1px dotted black;border-radius: 0.25em;box-sizing: border-box;margin-bottom: 0.5em;}#sk-container-id-2 div.sk-estimator:hover {background-color: #d4ebff;}#sk-container-id-2 div.sk-parallel-item::after {content: \"\";width: 100%;border-bottom: 1px solid gray;flex-grow: 1;}#sk-container-id-2 div.sk-label:hover label.sk-toggleable__label {background-color: #d4ebff;}#sk-container-id-2 div.sk-serial::before {content: \"\";position: absolute;border-left: 1px solid gray;box-sizing: border-box;top: 0;bottom: 0;left: 50%;z-index: 0;}#sk-container-id-2 div.sk-serial {display: flex;flex-direction: column;align-items: center;background-color: white;padding-right: 0.2em;padding-left: 0.2em;position: relative;}#sk-container-id-2 div.sk-item {position: relative;z-index: 1;}#sk-container-id-2 div.sk-parallel {display: flex;align-items: stretch;justify-content: center;background-color: white;position: relative;}#sk-container-id-2 div.sk-item::before, #sk-container-id-2 div.sk-parallel-item::before {content: \"\";position: absolute;border-left: 1px solid gray;box-sizing: border-box;top: 0;bottom: 0;left: 50%;z-index: -1;}#sk-container-id-2 div.sk-parallel-item {display: flex;flex-direction: column;z-index: 1;position: relative;background-color: white;}#sk-container-id-2 div.sk-parallel-item:first-child::after {align-self: flex-end;width: 50%;}#sk-container-id-2 div.sk-parallel-item:last-child::after {align-self: flex-start;width: 50%;}#sk-container-id-2 div.sk-parallel-item:only-child::after {width: 0;}#sk-container-id-2 div.sk-dashed-wrapped {border: 1px dashed gray;margin: 0 0.4em 0.5em 0.4em;box-sizing: border-box;padding-bottom: 0.4em;background-color: white;}#sk-container-id-2 div.sk-label label {font-family: monospace;font-weight: bold;display: inline-block;line-height: 1.2em;}#sk-container-id-2 div.sk-label-container {text-align: center;}#sk-container-id-2 div.sk-container {/* jupyter's `normalize.less` sets `[hidden] { display: none; }` but bootstrap.min.css set `[hidden] { display: none !important; }` so we also need the `!important` here to be able to override the default hidden behavior on the sphinx rendered scikit-learn.org. See: https://github.com/scikit-learn/scikit-learn/issues/21755 */display: inline-block !important;position: relative;}#sk-container-id-2 div.sk-text-repr-fallback {display: none;}</style><div id=\"sk-container-id-2\" class=\"sk-top-container\"><div class=\"sk-text-repr-fallback\"><pre>LinearRegression()</pre><b>In a Jupyter environment, please rerun this cell to show the HTML representation or trust the notebook. <br />On GitHub, the HTML representation is unable to render, please try loading this page with nbviewer.org.</b></div><div class=\"sk-container\" hidden><div class=\"sk-item\"><div class=\"sk-estimator sk-toggleable\"><input class=\"sk-toggleable__control sk-hidden--visually\" id=\"sk-estimator-id-2\" type=\"checkbox\" checked><label for=\"sk-estimator-id-2\" class=\"sk-toggleable__label sk-toggleable__label-arrow\">LinearRegression</label><div class=\"sk-toggleable__content\"><pre>LinearRegression()</pre></div></div></div></div></div>"
      ],
      "text/plain": [
       "LinearRegression()"
      ]
     },
     "execution_count": 10,
     "metadata": {},
     "output_type": "execute_result"
    }
   ],
   "source": [
    "from sklearn.preprocessing import PolynomialFeatures\n",
    "from sklearn.linear_model import LinearRegression\n",
    "poly_reg=PolynomialFeatures(degree=4)\n",
    "x_poly=poly_reg.fit_transform(x)\n",
    "lin_reg_2=LinearRegression()\n",
    "lin_reg_2.fit(x_poly,y)"
   ]
  },
  {
   "cell_type": "code",
   "execution_count": 11,
   "id": "97b87628",
   "metadata": {
    "execution": {
     "iopub.execute_input": "2024-09-12T08:34:38.687042Z",
     "iopub.status.busy": "2024-09-12T08:34:38.686596Z",
     "iopub.status.idle": "2024-09-12T08:34:38.695371Z",
     "shell.execute_reply": "2024-09-12T08:34:38.694211Z"
    },
    "papermill": {
     "duration": 0.01961,
     "end_time": "2024-09-12T08:34:38.697947",
     "exception": false,
     "start_time": "2024-09-12T08:34:38.678337",
     "status": "completed"
    },
    "tags": []
   },
   "outputs": [
    {
     "data": {
      "text/plain": [
       "array([34.98473914])"
      ]
     },
     "execution_count": 11,
     "metadata": {},
     "output_type": "execute_result"
    }
   ],
   "source": [
    "lin_reg_2.predict(poly_reg.fit_transform([[-4]]))"
   ]
  },
  {
   "cell_type": "code",
   "execution_count": 12,
   "id": "f7296ed0",
   "metadata": {
    "execution": {
     "iopub.execute_input": "2024-09-12T08:34:38.713663Z",
     "iopub.status.busy": "2024-09-12T08:34:38.713208Z",
     "iopub.status.idle": "2024-09-12T08:34:39.033507Z",
     "shell.execute_reply": "2024-09-12T08:34:39.032207Z"
    },
    "papermill": {
     "duration": 0.331164,
     "end_time": "2024-09-12T08:34:39.036145",
     "exception": false,
     "start_time": "2024-09-12T08:34:38.704981",
     "status": "completed"
    },
    "tags": []
   },
   "outputs": [
    {
     "data": {
      "image/png": "[encoded data removed]",
      "text/plain": [
       "<Figure size 640x480 with 1 Axes>"
      ]
     },
     "metadata": {},
     "output_type": "display_data"
    }
   ],
   "source": [
    "plt.scatter(x,y ,color=\"red\")\n",
    "plt.plot(x,lin_reg.predict(x),color=\"blue\")\n",
    "plt.title(\"(linear Regression)\")\n",
    "plt.xlabel(\"Temperature (°C)\")\n",
    "plt.ylabel(\"Ice Cream Sales (units)\")\n",
    "plt.show()"
   ]
  },
  {
   "cell_type": "code",
   "execution_count": 13,
   "id": "b462977c",
   "metadata": {
    "execution": {
     "iopub.execute_input": "2024-09-12T08:34:39.052773Z",
     "iopub.status.busy": "2024-09-12T08:34:39.052351Z",
     "iopub.status.idle": "2024-09-12T08:34:39.338432Z",
     "shell.execute_reply": "2024-09-12T08:34:39.337093Z"
    },
    "papermill": {
     "duration": 0.29767,
     "end_time": "2024-09-12T08:34:39.341218",
     "exception": false,
     "start_time": "2024-09-12T08:34:39.043548",
     "status": "completed"
    },
    "tags": []
   },
   "outputs": [
    {
     "data": {
      "image/png": "[encoded data removed]",
      "text/plain": [
       "<Figure size 640x480 with 1 Axes>"
      ]
     },
     "metadata": {},
     "output_type": "display_data"
    }
   ],
   "source": [
    "plt.scatter(x,y ,color=\"red\")\n",
    "plt.plot(x,lin_reg_2.predict(poly_reg.fit_transform(x)),color=\"blue\")\n",
    "plt.title(\"(Poly Regression)\")\n",
    "plt.xlabel(\"Temperature (°C)\")\n",
    "plt.ylabel(\"Ice Cream Sales (units)\")\n",
    "plt.show()"
   ]
  }
 ],
 "metadata": {
  "kaggle": {
   "accelerator": "none",
   "dataSources": [
    {
     "datasetId": 3482232,
     "sourceId": 6082268,
     "sourceType": "datasetVersion"
    }
   ],
   "dockerImageVersionId": 30761,
   "isGpuEnabled": false,
   "isInternetEnabled": true,
   "language": "python",
   "sourceType": "notebook"
  },
  "kernelspec": {
   "display_name": "Python 3",
   "language": "python",
   "name": "python3"
  },
  "language_info": {
   "codemirror_mode": {
    "name": "ipython",
    "version": 3
   },
   "file_extension": ".py",
   "mimetype": "text/x-python",
   "name": "python",
   "nbconvert_exporter": "python",
   "pygments_lexer": "ipython3",
   "version": "3.10.14"
  },
  "papermill": {
   "default_parameters": {},
   "duration": 6.71466,
   "end_time": "2024-09-12T08:34:39.971573",
   "environment_variables": {},
   "exception": null,
   "input_path": "__notebook__.ipynb",
   "output_path": "__notebook__.ipynb",
   "parameters": {},
   "start_time": "2024-09-12T08:34:33.256913",
   "version": "2.6.0"
  }
 },
 "nbformat": 4,
 "nbformat_minor": 5
}
